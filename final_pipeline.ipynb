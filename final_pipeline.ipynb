{
 "cells": [
  {
   "cell_type": "code",
   "execution_count": 1,
   "id": "a3f65b18",
   "metadata": {},
   "outputs": [],
   "source": [
    "import warnings\n",
    "warnings.filterwarnings(\"ignore\")\n",
    "import re\n",
    "import os\n",
    "import random\n",
    "import pandas as pd\n",
    "from tqdm import tqdm\n",
    "tqdm.pandas()\n",
    "import numpy as np\n",
    "import string\n",
    "from keras.models import model_from_json \n",
    "from tensorflow.keras.preprocessing.text import Tokenizer\n",
    "from tensorflow.keras.preprocessing.sequence import pad_sequences\n",
    "import pickle"
   ]
  },
  {
   "cell_type": "code",
   "execution_count": 2,
   "id": "50cb5310",
   "metadata": {},
   "outputs": [],
   "source": [
    "with open('tokenizer_t.pkl','rb') as f:\n",
    "    tokenizer_text = pickle.load(f)"
   ]
  },
  {
   "cell_type": "code",
   "execution_count": 3,
   "id": "87d93c83",
   "metadata": {},
   "outputs": [],
   "source": [
    "with open('tokenizer_s.pkl','rb') as f:\n",
    "    tokenizer_sentiment = pickle.load(f)"
   ]
  },
  {
   "cell_type": "code",
   "execution_count": 4,
   "id": "09809cd6",
   "metadata": {},
   "outputs": [],
   "source": [
    "# Loading JSON file\n",
    "from keras.models import model_from_json  \n",
    "json_file = open(\"model_final_1.json\", 'r')\n",
    "loaded_model_json = json_file.read()\n",
    "json_file.close()\n",
    "loaded_model = model_from_json(loaded_model_json)\n",
    "  \n",
    "# Loading weights\n",
    "loaded_model.load_weights(\"model_final_1.h5\")"
   ]
  },
  {
   "cell_type": "code",
   "execution_count": null,
   "id": "e4b86f23",
   "metadata": {},
   "outputs": [],
   "source": [
    "def convert_index_to_text(data):\n",
    "    \"\"\"This function reconvert the starting and ending index back to text\"\"\"\n",
    "  \n",
    "     text_col = data[0]   \n",
    "     start_col = data[1] \n",
    "     end_col = data[2]\n",
    "     end_col =end_col + 1\n",
    "     text_col = text_col.split()\n",
    "     selected_text_col = text_col[start_col:end_col]\n",
    "     selected_text_col = \" \".join(selected_text_col)\n",
    "     return selected_text_col"
   ]
  },
  {
   "cell_type": "code",
   "execution_count": 6,
   "id": "94f59692",
   "metadata": {},
   "outputs": [],
   "source": [
    "def jaccard(x): \n",
    "    str1 = str(x[0])\n",
    "    str2 = str(x[1])\n",
    "    a = set(str1.lower().split()) \n",
    "    b = set(str2.lower().split())\n",
    "    c = a.intersection(b)\n",
    "    return float(len(c)) / (len(a) + len(b) - len(c))"
   ]
  },
  {
   "cell_type": "markdown",
   "id": "a2818b44",
   "metadata": {},
   "source": [
    "## Final functions"
   ]
  },
  {
   "cell_type": "code",
   "execution_count": 11,
   "id": "549dbdd4",
   "metadata": {},
   "outputs": [],
   "source": [
    "def final_func_1(X):\n",
    "    '''This function takes a text(string) and sentiment as input and \n",
    "       returns selected_text(keywords) as output'''\n",
    "    df_text = inputs['text'].values\n",
    "    df_sentiment = inputs['sentiment'].values\n",
    "\n",
    "    df_text = tokenizer_text.texts_to_sequences(df_text)\n",
    "    df_text = pad_sequences(df_text,32,padding='post')\n",
    "\n",
    "    df_sentiment = tokenizer_sentiment.texts_to_sequences(df_sentiment)\n",
    "    df_sentiment = pad_sequences(df_sentiment,1,padding='post')\n",
    "    prediction = loaded_model.predict([df_text,df_sentiment])\n",
    "    X['start'],X['end'] = (abs(prediction[:,0])),(abs(prediction[:,1]))\n",
    "    X['start'] = X['start'].astype('int')\n",
    "    X['end'] = X['end'].astype('int')\n",
    "    X['predicted_text'] = X[['text','start','end']].progress_apply(lambda i : convert_index_to__text(i),axis=1)\n",
    "    X = X.drop(['start','end'],axis=1)\n",
    "    return X"
   ]
  },
  {
   "cell_type": "code",
   "execution_count": 12,
   "id": "dc532174",
   "metadata": {},
   "outputs": [],
   "source": [
    "def final_func_2(result):\n",
    "    \"\"\"This function will produce jaccard score by comparing selected_text and predicted_text\"\"\"\n",
    "    \n",
    "    result['jaccard_score'] = result[['predicted_text','selected_text']].apply(jaccard,axis=1)\n",
    "    score = np.mean(result['jaccard_score'])\n",
    "    return score"
   ]
  },
  {
   "cell_type": "markdown",
   "id": "eefa5847",
   "metadata": {},
   "source": [
    "## Example 1"
   ]
  },
  {
   "cell_type": "code",
   "execution_count": 13,
   "id": "16fb7d1c",
   "metadata": {},
   "outputs": [
    {
     "data": {
      "text/html": [
       "<div>\n",
       "<style scoped>\n",
       "    .dataframe tbody tr th:only-of-type {\n",
       "        vertical-align: middle;\n",
       "    }\n",
       "\n",
       "    .dataframe tbody tr th {\n",
       "        vertical-align: top;\n",
       "    }\n",
       "\n",
       "    .dataframe thead th {\n",
       "        text-align: right;\n",
       "    }\n",
       "</style>\n",
       "<table border=\"1\" class=\"dataframe\">\n",
       "  <thead>\n",
       "    <tr style=\"text-align: right;\">\n",
       "      <th></th>\n",
       "      <th>text</th>\n",
       "      <th>selected_text</th>\n",
       "      <th>sentiment</th>\n",
       "    </tr>\n",
       "  </thead>\n",
       "  <tbody>\n",
       "    <tr>\n",
       "      <th>0</th>\n",
       "      <td>shanghai is also really exciting precisely sky...</td>\n",
       "      <td>really exciting</td>\n",
       "      <td>positive</td>\n",
       "    </tr>\n",
       "  </tbody>\n",
       "</table>\n",
       "</div>"
      ],
      "text/plain": [
       "                                                text    selected_text  \\\n",
       "0  shanghai is also really exciting precisely sky...  really exciting   \n",
       "\n",
       "  sentiment  \n",
       "0  positive  "
      ]
     },
     "execution_count": 13,
     "metadata": {},
     "output_type": "execute_result"
    }
   ],
   "source": [
    "text = 'shanghai is also really exciting precisely skyscrapers galore good tweeps in china sh bj'\n",
    "sentiment = 'positive'\n",
    "selected_text = 'really exciting'\n",
    "inputs = pd.DataFrame([[text, selected_text,sentiment]],columns=['text','selected_text', 'sentiment'],dtype='str')\n",
    "                                       \n",
    "inputs"
   ]
  },
  {
   "cell_type": "code",
   "execution_count": 14,
   "id": "778c20ce",
   "metadata": {},
   "outputs": [
    {
     "name": "stderr",
     "output_type": "stream",
     "text": [
      "100%|███████████████████████████████████████████████████████████████████████████████████| 1/1 [00:00<00:00, 969.78it/s]\n"
     ]
    },
    {
     "data": {
      "text/html": [
       "<div>\n",
       "<style scoped>\n",
       "    .dataframe tbody tr th:only-of-type {\n",
       "        vertical-align: middle;\n",
       "    }\n",
       "\n",
       "    .dataframe tbody tr th {\n",
       "        vertical-align: top;\n",
       "    }\n",
       "\n",
       "    .dataframe thead th {\n",
       "        text-align: right;\n",
       "    }\n",
       "</style>\n",
       "<table border=\"1\" class=\"dataframe\">\n",
       "  <thead>\n",
       "    <tr style=\"text-align: right;\">\n",
       "      <th></th>\n",
       "      <th>text</th>\n",
       "      <th>selected_text</th>\n",
       "      <th>sentiment</th>\n",
       "      <th>predicted_text</th>\n",
       "    </tr>\n",
       "  </thead>\n",
       "  <tbody>\n",
       "    <tr>\n",
       "      <th>0</th>\n",
       "      <td>shanghai is also really exciting precisely sky...</td>\n",
       "      <td>really exciting</td>\n",
       "      <td>positive</td>\n",
       "      <td>really exciting</td>\n",
       "    </tr>\n",
       "  </tbody>\n",
       "</table>\n",
       "</div>"
      ],
      "text/plain": [
       "                                                text    selected_text  \\\n",
       "0  shanghai is also really exciting precisely sky...  really exciting   \n",
       "\n",
       "  sentiment   predicted_text  \n",
       "0  positive  really exciting  "
      ]
     },
     "execution_count": 14,
     "metadata": {},
     "output_type": "execute_result"
    }
   ],
   "source": [
    "result = final_func_1(inputs)\n",
    "result"
   ]
  },
  {
   "cell_type": "code",
   "execution_count": 15,
   "id": "77440e1d",
   "metadata": {},
   "outputs": [
    {
     "name": "stdout",
     "output_type": "stream",
     "text": [
      "The jaccard score is : 1.0\n"
     ]
    }
   ],
   "source": [
    "print('The jaccard score is :',final_func_2(result))"
   ]
  },
  {
   "cell_type": "markdown",
   "id": "ae8253a5",
   "metadata": {},
   "source": [
    "## Example 2"
   ]
  },
  {
   "cell_type": "code",
   "execution_count": 25,
   "id": "11d416e8",
   "metadata": {},
   "outputs": [
    {
     "data": {
      "text/html": [
       "<div>\n",
       "<style scoped>\n",
       "    .dataframe tbody tr th:only-of-type {\n",
       "        vertical-align: middle;\n",
       "    }\n",
       "\n",
       "    .dataframe tbody tr th {\n",
       "        vertical-align: top;\n",
       "    }\n",
       "\n",
       "    .dataframe thead th {\n",
       "        text-align: right;\n",
       "    }\n",
       "</style>\n",
       "<table border=\"1\" class=\"dataframe\">\n",
       "  <thead>\n",
       "    <tr style=\"text-align: right;\">\n",
       "      <th></th>\n",
       "      <th>text</th>\n",
       "      <th>selected_text</th>\n",
       "      <th>sentiment</th>\n",
       "    </tr>\n",
       "  </thead>\n",
       "  <tbody>\n",
       "    <tr>\n",
       "      <th>0</th>\n",
       "      <td>my back hurts really bad</td>\n",
       "      <td>really bad</td>\n",
       "      <td>negative</td>\n",
       "    </tr>\n",
       "  </tbody>\n",
       "</table>\n",
       "</div>"
      ],
      "text/plain": [
       "                       text selected_text sentiment\n",
       "0  my back hurts really bad    really bad  negative"
      ]
     },
     "execution_count": 25,
     "metadata": {},
     "output_type": "execute_result"
    }
   ],
   "source": [
    "text = 'my back hurts really bad'\n",
    "sentiment = 'negative'\n",
    "selected_text = 'really bad'\n",
    "inputs2 = pd.DataFrame([[text, selected_text,sentiment]],columns=['text','selected_text', 'sentiment'],dtype='str')\n",
    "                                       \n",
    "inputs2"
   ]
  },
  {
   "cell_type": "code",
   "execution_count": 26,
   "id": "96a77bac",
   "metadata": {},
   "outputs": [
    {
     "name": "stderr",
     "output_type": "stream",
     "text": [
      "100%|███████████████████████████████████████████████████████████████████████████████████| 1/1 [00:00<00:00, 496.19it/s]\n"
     ]
    },
    {
     "data": {
      "text/html": [
       "<div>\n",
       "<style scoped>\n",
       "    .dataframe tbody tr th:only-of-type {\n",
       "        vertical-align: middle;\n",
       "    }\n",
       "\n",
       "    .dataframe tbody tr th {\n",
       "        vertical-align: top;\n",
       "    }\n",
       "\n",
       "    .dataframe thead th {\n",
       "        text-align: right;\n",
       "    }\n",
       "</style>\n",
       "<table border=\"1\" class=\"dataframe\">\n",
       "  <thead>\n",
       "    <tr style=\"text-align: right;\">\n",
       "      <th></th>\n",
       "      <th>text</th>\n",
       "      <th>selected_text</th>\n",
       "      <th>sentiment</th>\n",
       "      <th>predicted_text</th>\n",
       "    </tr>\n",
       "  </thead>\n",
       "  <tbody>\n",
       "    <tr>\n",
       "      <th>0</th>\n",
       "      <td>my back hurts really bad</td>\n",
       "      <td>really bad</td>\n",
       "      <td>negative</td>\n",
       "      <td>really bad</td>\n",
       "    </tr>\n",
       "  </tbody>\n",
       "</table>\n",
       "</div>"
      ],
      "text/plain": [
       "                       text selected_text sentiment predicted_text\n",
       "0  my back hurts really bad    really bad  negative     really bad"
      ]
     },
     "execution_count": 26,
     "metadata": {},
     "output_type": "execute_result"
    }
   ],
   "source": [
    "result2 = final_func_1(inputs2)\n",
    "result2"
   ]
  },
  {
   "cell_type": "code",
   "execution_count": 27,
   "id": "a11b36ab",
   "metadata": {},
   "outputs": [
    {
     "name": "stdout",
     "output_type": "stream",
     "text": [
      "The jaccard score is : 1.0\n"
     ]
    }
   ],
   "source": [
    "print('The jaccard score is :',final_func_2(result2))"
   ]
  },
  {
   "cell_type": "markdown",
   "id": "ac3601b7",
   "metadata": {},
   "source": [
    "## Model Deployment"
   ]
  },
  {
   "cell_type": "markdown",
   "id": "872fa728",
   "metadata": {},
   "source": [
    "For Model Deployment video [click here](https://www.youtube.com/watch?v=7kMUtQmw2BU)"
   ]
  },
  {
   "cell_type": "code",
   "execution_count": null,
   "id": "ef4a9291",
   "metadata": {},
   "outputs": [],
   "source": []
  }
 ],
 "metadata": {
  "kernelspec": {
   "display_name": "Python 3",
   "language": "python",
   "name": "python3"
  },
  "language_info": {
   "codemirror_mode": {
    "name": "ipython",
    "version": 3
   },
   "file_extension": ".py",
   "mimetype": "text/x-python",
   "name": "python",
   "nbconvert_exporter": "python",
   "pygments_lexer": "ipython3",
   "version": "3.8.8"
  }
 },
 "nbformat": 4,
 "nbformat_minor": 5
}
