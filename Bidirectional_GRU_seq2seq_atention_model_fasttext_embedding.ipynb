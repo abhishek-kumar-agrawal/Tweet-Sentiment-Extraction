{
 "cells": [
  {
   "cell_type": "markdown",
   "id": "f5423575",
   "metadata": {
    "id": "f5423575"
   },
   "source": [
    "In this bidirectional gru model ,the code idea has been taken from \"LSTM donor choose data\".<br>\n",
    "In this  model what we will do is we will using glove embedding to create embedding layer and also tokenize and pad sequences the text and sentiment column. the target will be selected_text column but it will not be possible to predict selected_text directlyl ,but with bidirectional lstm model to predict selected_text so what we will do is we will come up with two new columns for target variable ,these two columns will show the start index and end index of selected_text on text column and then based on start and end index we will create  array of indices from start to end and the word having common in text and selected text will be assigned as 1 and uncommon words will be assigned as 0.<br>\n",
    "for example:\n",
    "\n",
    "text | selected_text | start_index | end_index |\n",
    ":---: | :---: | :---: | :---: |\n",
    "my boss is bullying me | bullying me | 3 | 4|\n",
    "what interview leave me alone | leave me alone | 2 | 4|\n",
    "\n",
    "array will be :<br>\n",
    "y_1 = [0,0,1,1,0]<br>\n",
    "y_2 = [0,1,1,1,0] and so on<br>\n",
    "\n",
    "the length of array will be max length of sentence in text column,for eg in above two sentence thelength is 5 so array is also of length 5 where common words are assigned 1 and rest index as 0.\n",
    "\n",
    "so you can see above \"bullying me start from 3rd index in text column and end at 4th index in text column,so  now we will use two newly created columns as target variable and during prediction will replace index with words,<br>This is the **BiDirectional GRU  MODEL**"
   ]
  },
  {
   "cell_type": "code",
   "execution_count": 1,
   "id": "8dd6a17d",
   "metadata": {
    "colab": {
     "base_uri": "https://localhost:8080/"
    },
    "id": "8dd6a17d",
    "outputId": "a6a02ff9-e6cf-4927-b421-f82568b23f82"
   },
   "outputs": [
    {
     "name": "stdout",
     "output_type": "stream",
     "text": [
      "Mounted at /content/drive\n"
     ]
    }
   ],
   "source": [
    "from google.colab import drive\n",
    "drive.mount('/content/drive')"
   ]
  },
  {
   "cell_type": "code",
   "execution_count": 2,
   "id": "6feb4e82",
   "metadata": {
    "colab": {
     "base_uri": "https://localhost:8080/"
    },
    "id": "6feb4e82",
    "outputId": "9a3e99f8-74d5-4a52-9033-96949c0bb6e3"
   },
   "outputs": [
    {
     "name": "stdout",
     "output_type": "stream",
     "text": [
      "Collecting fasttext\n",
      "  Downloading fasttext-0.9.2.tar.gz (68 kB)\n",
      "\u001b[K     |████████████████████████████████| 68 kB 2.2 MB/s \n",
      "\u001b[?25hCollecting pybind11>=2.2\n",
      "  Using cached pybind11-2.9.1-py2.py3-none-any.whl (211 kB)\n",
      "Requirement already satisfied: setuptools>=0.7.0 in /usr/local/lib/python3.7/dist-packages (from fasttext) (57.4.0)\n",
      "Requirement already satisfied: numpy in /usr/local/lib/python3.7/dist-packages (from fasttext) (1.19.5)\n",
      "Building wheels for collected packages: fasttext\n",
      "  Building wheel for fasttext (setup.py) ... \u001b[?25l\u001b[?25hdone\n",
      "  Created wheel for fasttext: filename=fasttext-0.9.2-cp37-cp37m-linux_x86_64.whl size=3137427 sha256=03052faa0bbdf0fe565bc1f1326c43eb66829d7bc6d80430072b28dcdb61e62a\n",
      "  Stored in directory: /root/.cache/pip/wheels/4e/ca/bf/b020d2be95f7641801a6597a29c8f4f19e38f9c02a345bab9b\n",
      "Successfully built fasttext\n",
      "Installing collected packages: pybind11, fasttext\n",
      "Successfully installed fasttext-0.9.2 pybind11-2.9.1\n"
     ]
    }
   ],
   "source": [
    "!pip install fasttext"
   ]
  },
  {
   "cell_type": "code",
   "execution_count": 3,
   "id": "f4940285",
   "metadata": {
    "colab": {
     "base_uri": "https://localhost:8080/"
    },
    "id": "f4940285",
    "outputId": "cc243c25-afc1-45c6-c011-4c2c1135e7b2"
   },
   "outputs": [
    {
     "name": "stdout",
     "output_type": "stream",
     "text": [
      "[nltk_data] Downloading package stopwords to /root/nltk_data...\n",
      "[nltk_data]   Unzipping corpora/stopwords.zip.\n",
      "[nltk_data] Downloading package punkt to /root/nltk_data...\n",
      "[nltk_data]   Unzipping tokenizers/punkt.zip.\n",
      "[nltk_data] Downloading package wordnet to /root/nltk_data...\n",
      "[nltk_data]   Unzipping corpora/wordnet.zip.\n",
      "[nltk_data] Downloading package averaged_perceptron_tagger to\n",
      "[nltk_data]     /root/nltk_data...\n",
      "[nltk_data]   Unzipping taggers/averaged_perceptron_tagger.zip.\n",
      "[nltk_data] Downloading package vader_lexicon to /root/nltk_data...\n"
     ]
    }
   ],
   "source": [
    "import warnings\n",
    "warnings.filterwarnings(\"ignore\")\n",
    "import re\n",
    "import os\n",
    "import random\n",
    "import pandas as pd\n",
    "import numpy as np\n",
    "import string\n",
    "import matplotlib.pyplot as plt\n",
    "from wordcloud import WordCloud, STOPWORDS\n",
    "import seaborn as sns\n",
    "from tqdm import tqdm\n",
    "import pandas as pd\n",
    "import seaborn as sns\n",
    "import matplotlib.pyplot as plt\n",
    "import numpy as np\n",
    "import random\n",
    "import scipy.stats as st\n",
    "import matplotlib as mpl\n",
    "import matplotlib.patches as mpl_patches\n",
    "import matplotlib.cm as cm\n",
    "import matplotlib.lines as mlines\n",
    "import re\n",
    "import nltk\n",
    "nltk.download('stopwords')\n",
    "from nltk.corpus import stopwords\n",
    "stop=set(stopwords.words('english'))\n",
    "nltk.download('punkt')\n",
    "nltk.download('wordnet')\n",
    "nltk.download('averaged_perceptron_tagger')  \n",
    "nltk.download('vader_lexicon')\n",
    "import spacy\n",
    "from collections import defaultdict,Counter\n",
    "from nltk.corpus import stopwords\n",
    "from nltk.stem import WordNetLemmatizer,PorterStemmer\n",
    "from nltk.tokenize import word_tokenize\n",
    "from wordcloud import WordCloud, STOPWORDS\n",
    "from nltk.util import ngrams\n",
    "from sklearn.feature_extraction.text import CountVectorizer  \n",
    "import fasttext.util\n",
    "tqdm.pandas()\n",
    "from nltk.sentiment.vader import SentimentIntensityAnalyzer\n",
    "import tensorflow as tf\n",
    "from tensorflow.keras.layers import Dense,Input,GRU,LSTM\n",
    "from tensorflow.keras.models import Model\n",
    "import keras.backend as K\n",
    "from tensorflow.keras.callbacks import LearningRateScheduler\n",
    "from keras.callbacks import ReduceLROnPlateau\n",
    "import tensorflow as tf\n",
    "from tensorflow.keras.models import Model\n",
    "from tensorflow.keras.layers import Embedding,Dense,Dropout,Concatenate,Flatten,Input,GRU,BatchNormalization,Bidirectional,SpatialDropout1D,LSTM,LayerNormalization\n",
    "from tensorflow.keras.regularizers import l2\n",
    "from tensorflow.keras.callbacks import LearningRateScheduler,ModelCheckpoint,EarlyStopping,TensorBoard,ReduceLROnPlateau"
   ]
  },
  {
   "cell_type": "code",
   "execution_count": 4,
   "id": "20b23abd",
   "metadata": {
    "colab": {
     "base_uri": "https://localhost:8080/",
     "height": 112
    },
    "id": "20b23abd",
    "outputId": "60522093-a510-473f-c49c-bcc9b51b8907"
   },
   "outputs": [
    {
     "data": {
      "text/html": [
       "\n",
       "  <div id=\"df-0967c36c-1b7e-4e7f-95cf-3cb7dd0392af\">\n",
       "    <div class=\"colab-df-container\">\n",
       "      <div>\n",
       "<style scoped>\n",
       "    .dataframe tbody tr th:only-of-type {\n",
       "        vertical-align: middle;\n",
       "    }\n",
       "\n",
       "    .dataframe tbody tr th {\n",
       "        vertical-align: top;\n",
       "    }\n",
       "\n",
       "    .dataframe thead th {\n",
       "        text-align: right;\n",
       "    }\n",
       "</style>\n",
       "<table border=\"1\" class=\"dataframe\">\n",
       "  <thead>\n",
       "    <tr style=\"text-align: right;\">\n",
       "      <th></th>\n",
       "      <th>textID</th>\n",
       "      <th>text</th>\n",
       "      <th>selected_text</th>\n",
       "      <th>sentiment</th>\n",
       "    </tr>\n",
       "  </thead>\n",
       "  <tbody>\n",
       "    <tr>\n",
       "      <th>0</th>\n",
       "      <td>cb774db0d1</td>\n",
       "      <td>i`d have responded if i were going</td>\n",
       "      <td>i`d have responded if i were going</td>\n",
       "      <td>neutral</td>\n",
       "    </tr>\n",
       "    <tr>\n",
       "      <th>1</th>\n",
       "      <td>549e992a42</td>\n",
       "      <td>sooo sad i will miss you here in san diego</td>\n",
       "      <td>sooo sad</td>\n",
       "      <td>negative</td>\n",
       "    </tr>\n",
       "  </tbody>\n",
       "</table>\n",
       "</div>\n",
       "      <button class=\"colab-df-convert\" onclick=\"convertToInteractive('df-0967c36c-1b7e-4e7f-95cf-3cb7dd0392af')\"\n",
       "              title=\"Convert this dataframe to an interactive table.\"\n",
       "              style=\"display:none;\">\n",
       "        \n",
       "  <svg xmlns=\"http://www.w3.org/2000/svg\" height=\"24px\"viewBox=\"0 0 24 24\"\n",
       "       width=\"24px\">\n",
       "    <path d=\"M0 0h24v24H0V0z\" fill=\"none\"/>\n",
       "    <path d=\"M18.56 5.44l.94 2.06.94-2.06 2.06-.94-2.06-.94-.94-2.06-.94 2.06-2.06.94zm-11 1L8.5 8.5l.94-2.06 2.06-.94-2.06-.94L8.5 2.5l-.94 2.06-2.06.94zm10 10l.94 2.06.94-2.06 2.06-.94-2.06-.94-.94-2.06-.94 2.06-2.06.94z\"/><path d=\"M17.41 7.96l-1.37-1.37c-.4-.4-.92-.59-1.43-.59-.52 0-1.04.2-1.43.59L10.3 9.45l-7.72 7.72c-.78.78-.78 2.05 0 2.83L4 21.41c.39.39.9.59 1.41.59.51 0 1.02-.2 1.41-.59l7.78-7.78 2.81-2.81c.8-.78.8-2.07 0-2.86zM5.41 20L4 18.59l7.72-7.72 1.47 1.35L5.41 20z\"/>\n",
       "  </svg>\n",
       "      </button>\n",
       "      \n",
       "  <style>\n",
       "    .colab-df-container {\n",
       "      display:flex;\n",
       "      flex-wrap:wrap;\n",
       "      gap: 12px;\n",
       "    }\n",
       "\n",
       "    .colab-df-convert {\n",
       "      background-color: #E8F0FE;\n",
       "      border: none;\n",
       "      border-radius: 50%;\n",
       "      cursor: pointer;\n",
       "      display: none;\n",
       "      fill: #1967D2;\n",
       "      height: 32px;\n",
       "      padding: 0 0 0 0;\n",
       "      width: 32px;\n",
       "    }\n",
       "\n",
       "    .colab-df-convert:hover {\n",
       "      background-color: #E2EBFA;\n",
       "      box-shadow: 0px 1px 2px rgba(60, 64, 67, 0.3), 0px 1px 3px 1px rgba(60, 64, 67, 0.15);\n",
       "      fill: #174EA6;\n",
       "    }\n",
       "\n",
       "    [theme=dark] .colab-df-convert {\n",
       "      background-color: #3B4455;\n",
       "      fill: #D2E3FC;\n",
       "    }\n",
       "\n",
       "    [theme=dark] .colab-df-convert:hover {\n",
       "      background-color: #434B5C;\n",
       "      box-shadow: 0px 1px 3px 1px rgba(0, 0, 0, 0.15);\n",
       "      filter: drop-shadow(0px 1px 2px rgba(0, 0, 0, 0.3));\n",
       "      fill: #FFFFFF;\n",
       "    }\n",
       "  </style>\n",
       "\n",
       "      <script>\n",
       "        const buttonEl =\n",
       "          document.querySelector('#df-0967c36c-1b7e-4e7f-95cf-3cb7dd0392af button.colab-df-convert');\n",
       "        buttonEl.style.display =\n",
       "          google.colab.kernel.accessAllowed ? 'block' : 'none';\n",
       "\n",
       "        async function convertToInteractive(key) {\n",
       "          const element = document.querySelector('#df-0967c36c-1b7e-4e7f-95cf-3cb7dd0392af');\n",
       "          const dataTable =\n",
       "            await google.colab.kernel.invokeFunction('convertToInteractive',\n",
       "                                                     [key], {});\n",
       "          if (!dataTable) return;\n",
       "\n",
       "          const docLinkHtml = 'Like what you see? Visit the ' +\n",
       "            '<a target=\"_blank\" href=https://colab.research.google.com/notebooks/data_table.ipynb>data table notebook</a>'\n",
       "            + ' to learn more about interactive tables.';\n",
       "          element.innerHTML = '';\n",
       "          dataTable['output_type'] = 'display_data';\n",
       "          await google.colab.output.renderOutput(dataTable, element);\n",
       "          const docLink = document.createElement('div');\n",
       "          docLink.innerHTML = docLinkHtml;\n",
       "          element.appendChild(docLink);\n",
       "        }\n",
       "      </script>\n",
       "    </div>\n",
       "  </div>\n",
       "  "
      ],
      "text/plain": [
       "       textID  ... sentiment\n",
       "0  cb774db0d1  ...   neutral\n",
       "1  549e992a42  ...  negative\n",
       "\n",
       "[2 rows x 4 columns]"
      ]
     },
     "execution_count": 4,
     "metadata": {},
     "output_type": "execute_result"
    }
   ],
   "source": [
    "df_train = pd.read_csv('/content/drive/MyDrive/encoder_decoder_model/train_preprocessed_final.csv')\n",
    "df_train.head(2)"
   ]
  },
  {
   "cell_type": "code",
   "execution_count": 5,
   "id": "96ed5588",
   "metadata": {
    "colab": {
     "base_uri": "https://localhost:8080/",
     "height": 112
    },
    "id": "96ed5588",
    "outputId": "26f697fa-597e-43db-e730-b0b991f71f9b"
   },
   "outputs": [
    {
     "data": {
      "text/html": [
       "\n",
       "  <div id=\"df-238bdac0-661c-42d1-80fa-e2374abb92f4\">\n",
       "    <div class=\"colab-df-container\">\n",
       "      <div>\n",
       "<style scoped>\n",
       "    .dataframe tbody tr th:only-of-type {\n",
       "        vertical-align: middle;\n",
       "    }\n",
       "\n",
       "    .dataframe tbody tr th {\n",
       "        vertical-align: top;\n",
       "    }\n",
       "\n",
       "    .dataframe thead th {\n",
       "        text-align: right;\n",
       "    }\n",
       "</style>\n",
       "<table border=\"1\" class=\"dataframe\">\n",
       "  <thead>\n",
       "    <tr style=\"text-align: right;\">\n",
       "      <th></th>\n",
       "      <th>textID</th>\n",
       "      <th>text</th>\n",
       "      <th>sentiment</th>\n",
       "    </tr>\n",
       "  </thead>\n",
       "  <tbody>\n",
       "    <tr>\n",
       "      <th>0</th>\n",
       "      <td>f87dea47db</td>\n",
       "      <td>last session of the day</td>\n",
       "      <td>neutral</td>\n",
       "    </tr>\n",
       "    <tr>\n",
       "      <th>1</th>\n",
       "      <td>96d74cb729</td>\n",
       "      <td>shanghai is also really exciting precisely sky...</td>\n",
       "      <td>positive</td>\n",
       "    </tr>\n",
       "  </tbody>\n",
       "</table>\n",
       "</div>\n",
       "      <button class=\"colab-df-convert\" onclick=\"convertToInteractive('df-238bdac0-661c-42d1-80fa-e2374abb92f4')\"\n",
       "              title=\"Convert this dataframe to an interactive table.\"\n",
       "              style=\"display:none;\">\n",
       "        \n",
       "  <svg xmlns=\"http://www.w3.org/2000/svg\" height=\"24px\"viewBox=\"0 0 24 24\"\n",
       "       width=\"24px\">\n",
       "    <path d=\"M0 0h24v24H0V0z\" fill=\"none\"/>\n",
       "    <path d=\"M18.56 5.44l.94 2.06.94-2.06 2.06-.94-2.06-.94-.94-2.06-.94 2.06-2.06.94zm-11 1L8.5 8.5l.94-2.06 2.06-.94-2.06-.94L8.5 2.5l-.94 2.06-2.06.94zm10 10l.94 2.06.94-2.06 2.06-.94-2.06-.94-.94-2.06-.94 2.06-2.06.94z\"/><path d=\"M17.41 7.96l-1.37-1.37c-.4-.4-.92-.59-1.43-.59-.52 0-1.04.2-1.43.59L10.3 9.45l-7.72 7.72c-.78.78-.78 2.05 0 2.83L4 21.41c.39.39.9.59 1.41.59.51 0 1.02-.2 1.41-.59l7.78-7.78 2.81-2.81c.8-.78.8-2.07 0-2.86zM5.41 20L4 18.59l7.72-7.72 1.47 1.35L5.41 20z\"/>\n",
       "  </svg>\n",
       "      </button>\n",
       "      \n",
       "  <style>\n",
       "    .colab-df-container {\n",
       "      display:flex;\n",
       "      flex-wrap:wrap;\n",
       "      gap: 12px;\n",
       "    }\n",
       "\n",
       "    .colab-df-convert {\n",
       "      background-color: #E8F0FE;\n",
       "      border: none;\n",
       "      border-radius: 50%;\n",
       "      cursor: pointer;\n",
       "      display: none;\n",
       "      fill: #1967D2;\n",
       "      height: 32px;\n",
       "      padding: 0 0 0 0;\n",
       "      width: 32px;\n",
       "    }\n",
       "\n",
       "    .colab-df-convert:hover {\n",
       "      background-color: #E2EBFA;\n",
       "      box-shadow: 0px 1px 2px rgba(60, 64, 67, 0.3), 0px 1px 3px 1px rgba(60, 64, 67, 0.15);\n",
       "      fill: #174EA6;\n",
       "    }\n",
       "\n",
       "    [theme=dark] .colab-df-convert {\n",
       "      background-color: #3B4455;\n",
       "      fill: #D2E3FC;\n",
       "    }\n",
       "\n",
       "    [theme=dark] .colab-df-convert:hover {\n",
       "      background-color: #434B5C;\n",
       "      box-shadow: 0px 1px 3px 1px rgba(0, 0, 0, 0.15);\n",
       "      filter: drop-shadow(0px 1px 2px rgba(0, 0, 0, 0.3));\n",
       "      fill: #FFFFFF;\n",
       "    }\n",
       "  </style>\n",
       "\n",
       "      <script>\n",
       "        const buttonEl =\n",
       "          document.querySelector('#df-238bdac0-661c-42d1-80fa-e2374abb92f4 button.colab-df-convert');\n",
       "        buttonEl.style.display =\n",
       "          google.colab.kernel.accessAllowed ? 'block' : 'none';\n",
       "\n",
       "        async function convertToInteractive(key) {\n",
       "          const element = document.querySelector('#df-238bdac0-661c-42d1-80fa-e2374abb92f4');\n",
       "          const dataTable =\n",
       "            await google.colab.kernel.invokeFunction('convertToInteractive',\n",
       "                                                     [key], {});\n",
       "          if (!dataTable) return;\n",
       "\n",
       "          const docLinkHtml = 'Like what you see? Visit the ' +\n",
       "            '<a target=\"_blank\" href=https://colab.research.google.com/notebooks/data_table.ipynb>data table notebook</a>'\n",
       "            + ' to learn more about interactive tables.';\n",
       "          element.innerHTML = '';\n",
       "          dataTable['output_type'] = 'display_data';\n",
       "          await google.colab.output.renderOutput(dataTable, element);\n",
       "          const docLink = document.createElement('div');\n",
       "          docLink.innerHTML = docLinkHtml;\n",
       "          element.appendChild(docLink);\n",
       "        }\n",
       "      </script>\n",
       "    </div>\n",
       "  </div>\n",
       "  "
      ],
      "text/plain": [
       "       textID                                               text sentiment\n",
       "0  f87dea47db                            last session of the day   neutral\n",
       "1  96d74cb729  shanghai is also really exciting precisely sky...  positive"
      ]
     },
     "execution_count": 5,
     "metadata": {},
     "output_type": "execute_result"
    }
   ],
   "source": [
    "df_test = pd.read_csv('/content/drive/MyDrive/encoder_decoder_model/test_preprocessed_final.csv')\n",
    "df_test.head(2)"
   ]
  },
  {
   "cell_type": "code",
   "execution_count": 6,
   "id": "5f07c4e6",
   "metadata": {
    "colab": {
     "base_uri": "https://localhost:8080/"
    },
    "id": "5f07c4e6",
    "outputId": "0701781a-8842-47ed-c467-749f2991cd4d"
   },
   "outputs": [
    {
     "name": "stdout",
     "output_type": "stream",
     "text": [
      "The training data has a shape of :  (27468, 4)\n",
      "The test data has a shape of :  (3533, 3)\n"
     ]
    }
   ],
   "source": [
    "print('The training data has a shape of : ',df_train.shape)\n",
    "print('The test data has a shape of : ',df_test.shape)"
   ]
  },
  {
   "cell_type": "code",
   "execution_count": 7,
   "id": "0d01cf39",
   "metadata": {
    "id": "0d01cf39"
   },
   "outputs": [],
   "source": [
    "def start_index(data):\n",
    "    '''This function will find the starting index from text column where words from selected_text starts\n",
    "    text == attribute1\n",
    "    selected_text == attribute2'''\n",
    "    attribute1 = data[0]\n",
    "    attribute2 = data[1]\n",
    "    attribute1 = attribute1.split()\n",
    "    attribute2 = attribute2.split()\n",
    "    end = attribute2[0]\n",
    "    starting_index = attribute1.index(end)\n",
    "    return starting_index\n",
    "    "
   ]
  },
  {
   "cell_type": "code",
   "execution_count": 8,
   "id": "b5b5ee7e",
   "metadata": {
    "id": "b5b5ee7e"
   },
   "outputs": [],
   "source": [
    "def end_index(data):\n",
    "    '''This function will find the ending index from text column where words from selected_text starts\n",
    "    text == attribute1\n",
    "    selected_text == attribute2\n",
    "    start_index == attribute3'''\n",
    "    attribute1 = data[0]\n",
    "    attribute2 = data[1]\n",
    "    attribute3 = data[2]\n",
    "    attribute2 = attribute2.split()\n",
    "    end = attribute2[-1]\n",
    "    try:\n",
    "        ending_index = attribute1.index(end,attribute3)\n",
    "    except:\n",
    "        ending_index = attribute1.index(end)\n",
    "        \n",
    "    return ending_index\n",
    "    "
   ]
  },
  {
   "cell_type": "code",
   "execution_count": 9,
   "id": "d695ad0b",
   "metadata": {
    "colab": {
     "base_uri": "https://localhost:8080/"
    },
    "id": "d695ad0b",
    "outputId": "d29fb927-af0c-4e84-d8ae-b36a3040578b"
   },
   "outputs": [
    {
     "name": "stderr",
     "output_type": "stream",
     "text": [
      "100%|██████████| 27468/27468 [00:00<00:00, 32697.11it/s]\n"
     ]
    }
   ],
   "source": [
    "df_train['starting_index'] = df_train[['text','selected_text']].progress_apply(lambda i : start_index(i),axis=1)"
   ]
  },
  {
   "cell_type": "code",
   "execution_count": 10,
   "id": "d85f6d21",
   "metadata": {
    "colab": {
     "base_uri": "https://localhost:8080/"
    },
    "id": "d85f6d21",
    "outputId": "28d6a259-9b45-469e-d194-75c82a09441f"
   },
   "outputs": [
    {
     "name": "stderr",
     "output_type": "stream",
     "text": [
      "100%|██████████| 27468/27468 [00:00<00:00, 47352.15it/s]\n"
     ]
    }
   ],
   "source": [
    "df_train['ending_index'] = df_train[['text','selected_text','starting_index']].progress_apply(lambda i : end_index(i),axis=1)"
   ]
  },
  {
   "cell_type": "markdown",
   "id": "79a59370",
   "metadata": {
    "id": "79a59370"
   },
   "source": [
    "#### checking whether ending index < starting index and if yes removing that row"
   ]
  },
  {
   "cell_type": "code",
   "execution_count": 11,
   "id": "62b9cb9e",
   "metadata": {
    "colab": {
     "base_uri": "https://localhost:8080/"
    },
    "id": "62b9cb9e",
    "outputId": "4d3e9025-8765-41c8-f9f7-b0575fa43de7"
   },
   "outputs": [
    {
     "data": {
      "text/plain": [
       "(23, 6)"
      ]
     },
     "execution_count": 11,
     "metadata": {},
     "output_type": "execute_result"
    }
   ],
   "source": [
    "df_train[df_train.ending_index<df_train.starting_index].shape"
   ]
  },
  {
   "cell_type": "code",
   "execution_count": 12,
   "id": "b4c5d681",
   "metadata": {
    "id": "b4c5d681"
   },
   "outputs": [],
   "source": [
    "# we will take only those rows where ending_index >= starting index\n",
    "df_train = df_train[df_train.ending_index >= df_train.starting_index]"
   ]
  },
  {
   "cell_type": "code",
   "execution_count": 13,
   "id": "05a33915",
   "metadata": {
    "colab": {
     "base_uri": "https://localhost:8080/"
    },
    "id": "05a33915",
    "outputId": "3c6223ac-8d01-4e1b-f944-d0a299e074a2"
   },
   "outputs": [
    {
     "data": {
      "text/plain": [
       "(27445, 6)"
      ]
     },
     "execution_count": 13,
     "metadata": {},
     "output_type": "execute_result"
    }
   ],
   "source": [
    "df_train.shape"
   ]
  },
  {
   "cell_type": "code",
   "execution_count": 14,
   "id": "e5c0ebf3",
   "metadata": {
    "colab": {
     "base_uri": "https://localhost:8080/",
     "height": 206
    },
    "id": "e5c0ebf3",
    "outputId": "a0c490d1-802a-435b-a25e-8ad62931d2b2"
   },
   "outputs": [
    {
     "data": {
      "text/html": [
       "\n",
       "  <div id=\"df-a516ae71-88f0-4b3b-92ce-ad637b4b3290\">\n",
       "    <div class=\"colab-df-container\">\n",
       "      <div>\n",
       "<style scoped>\n",
       "    .dataframe tbody tr th:only-of-type {\n",
       "        vertical-align: middle;\n",
       "    }\n",
       "\n",
       "    .dataframe tbody tr th {\n",
       "        vertical-align: top;\n",
       "    }\n",
       "\n",
       "    .dataframe thead th {\n",
       "        text-align: right;\n",
       "    }\n",
       "</style>\n",
       "<table border=\"1\" class=\"dataframe\">\n",
       "  <thead>\n",
       "    <tr style=\"text-align: right;\">\n",
       "      <th></th>\n",
       "      <th>textID</th>\n",
       "      <th>text</th>\n",
       "      <th>selected_text</th>\n",
       "      <th>sentiment</th>\n",
       "      <th>starting_index</th>\n",
       "      <th>ending_index</th>\n",
       "    </tr>\n",
       "  </thead>\n",
       "  <tbody>\n",
       "    <tr>\n",
       "      <th>0</th>\n",
       "      <td>cb774db0d1</td>\n",
       "      <td>i`d have responded if i were going</td>\n",
       "      <td>i`d have responded if i were going</td>\n",
       "      <td>neutral</td>\n",
       "      <td>0</td>\n",
       "      <td>6</td>\n",
       "    </tr>\n",
       "    <tr>\n",
       "      <th>1</th>\n",
       "      <td>549e992a42</td>\n",
       "      <td>sooo sad i will miss you here in san diego</td>\n",
       "      <td>sooo sad</td>\n",
       "      <td>negative</td>\n",
       "      <td>0</td>\n",
       "      <td>1</td>\n",
       "    </tr>\n",
       "    <tr>\n",
       "      <th>2</th>\n",
       "      <td>088c60f138</td>\n",
       "      <td>my boss is bullying me</td>\n",
       "      <td>bullying me</td>\n",
       "      <td>negative</td>\n",
       "      <td>3</td>\n",
       "      <td>4</td>\n",
       "    </tr>\n",
       "    <tr>\n",
       "      <th>3</th>\n",
       "      <td>9642c003ef</td>\n",
       "      <td>what interview leave me alone</td>\n",
       "      <td>leave me alone</td>\n",
       "      <td>negative</td>\n",
       "      <td>2</td>\n",
       "      <td>4</td>\n",
       "    </tr>\n",
       "    <tr>\n",
       "      <th>4</th>\n",
       "      <td>358bd9e861</td>\n",
       "      <td>sons of CURSE why couldn`t they put them on th...</td>\n",
       "      <td>sons of CURSE</td>\n",
       "      <td>negative</td>\n",
       "      <td>0</td>\n",
       "      <td>2</td>\n",
       "    </tr>\n",
       "  </tbody>\n",
       "</table>\n",
       "</div>\n",
       "      <button class=\"colab-df-convert\" onclick=\"convertToInteractive('df-a516ae71-88f0-4b3b-92ce-ad637b4b3290')\"\n",
       "              title=\"Convert this dataframe to an interactive table.\"\n",
       "              style=\"display:none;\">\n",
       "        \n",
       "  <svg xmlns=\"http://www.w3.org/2000/svg\" height=\"24px\"viewBox=\"0 0 24 24\"\n",
       "       width=\"24px\">\n",
       "    <path d=\"M0 0h24v24H0V0z\" fill=\"none\"/>\n",
       "    <path d=\"M18.56 5.44l.94 2.06.94-2.06 2.06-.94-2.06-.94-.94-2.06-.94 2.06-2.06.94zm-11 1L8.5 8.5l.94-2.06 2.06-.94-2.06-.94L8.5 2.5l-.94 2.06-2.06.94zm10 10l.94 2.06.94-2.06 2.06-.94-2.06-.94-.94-2.06-.94 2.06-2.06.94z\"/><path d=\"M17.41 7.96l-1.37-1.37c-.4-.4-.92-.59-1.43-.59-.52 0-1.04.2-1.43.59L10.3 9.45l-7.72 7.72c-.78.78-.78 2.05 0 2.83L4 21.41c.39.39.9.59 1.41.59.51 0 1.02-.2 1.41-.59l7.78-7.78 2.81-2.81c.8-.78.8-2.07 0-2.86zM5.41 20L4 18.59l7.72-7.72 1.47 1.35L5.41 20z\"/>\n",
       "  </svg>\n",
       "      </button>\n",
       "      \n",
       "  <style>\n",
       "    .colab-df-container {\n",
       "      display:flex;\n",
       "      flex-wrap:wrap;\n",
       "      gap: 12px;\n",
       "    }\n",
       "\n",
       "    .colab-df-convert {\n",
       "      background-color: #E8F0FE;\n",
       "      border: none;\n",
       "      border-radius: 50%;\n",
       "      cursor: pointer;\n",
       "      display: none;\n",
       "      fill: #1967D2;\n",
       "      height: 32px;\n",
       "      padding: 0 0 0 0;\n",
       "      width: 32px;\n",
       "    }\n",
       "\n",
       "    .colab-df-convert:hover {\n",
       "      background-color: #E2EBFA;\n",
       "      box-shadow: 0px 1px 2px rgba(60, 64, 67, 0.3), 0px 1px 3px 1px rgba(60, 64, 67, 0.15);\n",
       "      fill: #174EA6;\n",
       "    }\n",
       "\n",
       "    [theme=dark] .colab-df-convert {\n",
       "      background-color: #3B4455;\n",
       "      fill: #D2E3FC;\n",
       "    }\n",
       "\n",
       "    [theme=dark] .colab-df-convert:hover {\n",
       "      background-color: #434B5C;\n",
       "      box-shadow: 0px 1px 3px 1px rgba(0, 0, 0, 0.15);\n",
       "      filter: drop-shadow(0px 1px 2px rgba(0, 0, 0, 0.3));\n",
       "      fill: #FFFFFF;\n",
       "    }\n",
       "  </style>\n",
       "\n",
       "      <script>\n",
       "        const buttonEl =\n",
       "          document.querySelector('#df-a516ae71-88f0-4b3b-92ce-ad637b4b3290 button.colab-df-convert');\n",
       "        buttonEl.style.display =\n",
       "          google.colab.kernel.accessAllowed ? 'block' : 'none';\n",
       "\n",
       "        async function convertToInteractive(key) {\n",
       "          const element = document.querySelector('#df-a516ae71-88f0-4b3b-92ce-ad637b4b3290');\n",
       "          const dataTable =\n",
       "            await google.colab.kernel.invokeFunction('convertToInteractive',\n",
       "                                                     [key], {});\n",
       "          if (!dataTable) return;\n",
       "\n",
       "          const docLinkHtml = 'Like what you see? Visit the ' +\n",
       "            '<a target=\"_blank\" href=https://colab.research.google.com/notebooks/data_table.ipynb>data table notebook</a>'\n",
       "            + ' to learn more about interactive tables.';\n",
       "          element.innerHTML = '';\n",
       "          dataTable['output_type'] = 'display_data';\n",
       "          await google.colab.output.renderOutput(dataTable, element);\n",
       "          const docLink = document.createElement('div');\n",
       "          docLink.innerHTML = docLinkHtml;\n",
       "          element.appendChild(docLink);\n",
       "        }\n",
       "      </script>\n",
       "    </div>\n",
       "  </div>\n",
       "  "
      ],
      "text/plain": [
       "       textID  ... ending_index\n",
       "0  cb774db0d1  ...            6\n",
       "1  549e992a42  ...            1\n",
       "2  088c60f138  ...            4\n",
       "3  9642c003ef  ...            4\n",
       "4  358bd9e861  ...            2\n",
       "\n",
       "[5 rows x 6 columns]"
      ]
     },
     "execution_count": 14,
     "metadata": {},
     "output_type": "execute_result"
    }
   ],
   "source": [
    "df_train.head()"
   ]
  },
  {
   "cell_type": "markdown",
   "id": "a3af1ddc",
   "metadata": {
    "id": "a3af1ddc"
   },
   "source": [
    "## Train Validation Split"
   ]
  },
  {
   "cell_type": "markdown",
   "id": "a54f017d",
   "metadata": {
    "id": "a54f017d"
   },
   "source": [
    "#### Finding maximum length of sentence in text column from original data"
   ]
  },
  {
   "cell_type": "code",
   "execution_count": 15,
   "id": "14ac8e0b",
   "metadata": {
    "colab": {
     "base_uri": "https://localhost:8080/"
    },
    "id": "14ac8e0b",
    "outputId": "6b6b22ae-0bc8-4a9f-dd5d-0f9a6ee236b3"
   },
   "outputs": [
    {
     "name": "stdout",
     "output_type": "stream",
     "text": [
      "The maximum length of sentence in text column is :  32\n"
     ]
    }
   ],
   "source": [
    "df_train['text_word_length'] = df_train['text'].astype('str').apply(lambda i : len(i.split()))\n",
    "max_sentence_length = df_train['text_word_length'].max()\n",
    "print('The maximum length of sentence in text column is : ',max_sentence_length)"
   ]
  },
  {
   "cell_type": "code",
   "execution_count": 16,
   "id": "fae35594",
   "metadata": {
    "id": "fae35594"
   },
   "outputs": [],
   "source": [
    "X = df_train[[\"text\",\"selected_text\",\"sentiment\",\"starting_index\",\"ending_index\"]]"
   ]
  },
  {
   "cell_type": "code",
   "execution_count": 17,
   "id": "69a8c522",
   "metadata": {
    "colab": {
     "base_uri": "https://localhost:8080/"
    },
    "id": "69a8c522",
    "outputId": "580dc4e7-7671-4a5d-d5e5-2dc425e8f03a"
   },
   "outputs": [
    {
     "name": "stderr",
     "output_type": "stream",
     "text": [
      "27445it [00:00, 463077.27it/s]\n"
     ]
    }
   ],
   "source": [
    "y = np.zeros((X.shape[0],max_sentence_length+1))\n",
    "for i,j in tqdm(enumerate(X.values)):\n",
    "    ini_start_index = j[3] \n",
    "    fin_end_index = j[4]\n",
    "    y[i][ini_start_index : fin_end_index+1] = 1"
   ]
  },
  {
   "cell_type": "code",
   "execution_count": 18,
   "id": "95980e50",
   "metadata": {
    "colab": {
     "base_uri": "https://localhost:8080/"
    },
    "id": "95980e50",
    "outputId": "97263613-be81-4187-bdc7-0363011d379e"
   },
   "outputs": [
    {
     "name": "stdout",
     "output_type": "stream",
     "text": [
      "original data :  ['i got a messgae but it didnt work cause i have a text saver not like money credit im sad now wat do i do xoxo'\n",
      " 'sad' 'negative' 19 19]\n",
      "\n",
      "\n",
      "the output y : [0. 0. 0. 0. 0. 0. 0. 0. 0. 0. 0. 0. 0. 0. 0. 0. 0. 0. 0. 1. 0. 0. 0. 0.\n",
      " 0. 0. 0. 0. 0. 0. 0. 0. 0.]\n",
      "****************************************************************************************************\n",
      "original data :  ['feel crappy today' 'feel crappy today' 'negative' 0 2]\n",
      "\n",
      "\n",
      "the output y : [1. 1. 1. 0. 0. 0. 0. 0. 0. 0. 0. 0. 0. 0. 0. 0. 0. 0. 0. 0. 0. 0. 0. 0.\n",
      " 0. 0. 0. 0. 0. 0. 0. 0. 0.]\n",
      "****************************************************************************************************\n"
     ]
    }
   ],
   "source": [
    "# Check the output y \n",
    "import random\n",
    "for i in range(2):\n",
    "    index = random.randint(0,df_train.shape[0])\n",
    "    print(\"original data : \",X.values[index])\n",
    "    print(\"\\n\")\n",
    "    print(\"the output y :\",y[index])\n",
    "    print(\"*\"*100)"
   ]
  },
  {
   "cell_type": "markdown",
   "id": "6af5dc41",
   "metadata": {
    "id": "6af5dc41"
   },
   "source": [
    "#### Observation:\n",
    "From above output you can see the the words at selected text column which are common to text column are assigned as 1 rest as 0 and the length of array is equal to meax length of sentence in text column which was designated by \"max_sentence_length\""
   ]
  },
  {
   "cell_type": "code",
   "execution_count": 19,
   "id": "8e2de3ac",
   "metadata": {
    "colab": {
     "base_uri": "https://localhost:8080/"
    },
    "id": "8e2de3ac",
    "outputId": "405bf164-68f6-49e9-bec8-8bb0d22f4486"
   },
   "outputs": [
    {
     "name": "stdout",
     "output_type": "stream",
     "text": [
      "The X data has a shape of :  (27445, 5)\n",
      "The y data has a shape of :  (27445, 33)\n"
     ]
    }
   ],
   "source": [
    "print('The X data has a shape of : ',X.shape)\n",
    "print('The y data has a shape of : ',y.shape)"
   ]
  },
  {
   "cell_type": "code",
   "execution_count": 20,
   "id": "23bf81a6",
   "metadata": {
    "colab": {
     "base_uri": "https://localhost:8080/"
    },
    "id": "23bf81a6",
    "outputId": "3cb907b2-a484-4eed-f704-fb0ac381e8f6"
   },
   "outputs": [
    {
     "name": "stdout",
     "output_type": "stream",
     "text": [
      "the shape of X_train is :  (21956, 5)\n",
      "the shape of X_valid is :  (5489, 5)\n",
      "the shape of y_train is :  (21956, 33, 1)\n",
      "the shape of y_valid is :  (5489, 33, 1)\n"
     ]
    }
   ],
   "source": [
    "from sklearn.model_selection import train_test_split\n",
    "X_train,X_valid,y_train,y_valid = train_test_split(X,y,test_size=0.20,random_state=42)\n",
    "#Preparing the y_train and y_valid from 2D to 3D tensor for seq to seq architecture\n",
    "y_train=np.expand_dims(y_train,-1)\n",
    "y_valid = np.expand_dims(y_valid,-1)\n",
    "print('the shape of X_train is : ',X_train.shape)\n",
    "print('the shape of X_valid is : ',X_valid.shape)\n",
    "print('the shape of y_train is : ',y_train.shape)\n",
    "print('the shape of y_valid is : ',y_valid.shape)"
   ]
  },
  {
   "cell_type": "markdown",
   "id": "af92408e",
   "metadata": {
    "id": "af92408e"
   },
   "source": [
    "## \"Text\" column"
   ]
  },
  {
   "cell_type": "code",
   "execution_count": 21,
   "id": "dfb7116e",
   "metadata": {
    "id": "dfb7116e"
   },
   "outputs": [],
   "source": [
    "df_text_train = X_train['text'].values\n",
    "df_text_valid = X_valid['text'].values"
   ]
  },
  {
   "cell_type": "markdown",
   "id": "91e07e39",
   "metadata": {
    "id": "91e07e39"
   },
   "source": [
    "#### Tokenizer and Pad sequencing"
   ]
  },
  {
   "cell_type": "code",
   "execution_count": 22,
   "id": "4c81cca6",
   "metadata": {
    "colab": {
     "base_uri": "https://localhost:8080/"
    },
    "id": "4c81cca6",
    "outputId": "041bc43f-5ae1-47d3-eec2-9bbc850d2407"
   },
   "outputs": [
    {
     "name": "stdout",
     "output_type": "stream",
     "text": [
      "20710\n"
     ]
    }
   ],
   "source": [
    "from tensorflow.keras.preprocessing.text import Tokenizer\n",
    "text_tknz = Tokenizer(lower=True,split=' ',oov_token='oov')\n",
    "text_tknz.fit_on_texts(df_text_train)\n",
    "df_text_train = text_tknz.texts_to_sequences(df_text_train)\n",
    "df_text_valid = text_tknz.texts_to_sequences(df_text_valid)\n",
    "text_vocab_size = len(text_tknz.word_index)+1\n",
    "print(text_vocab_size)"
   ]
  },
  {
   "cell_type": "code",
   "execution_count": 23,
   "id": "7aa05a29",
   "metadata": {
    "colab": {
     "base_uri": "https://localhost:8080/"
    },
    "id": "7aa05a29",
    "outputId": "ce499850-8fa4-4352-ebdd-a0c5b2e5ee1f"
   },
   "outputs": [
    {
     "name": "stdout",
     "output_type": "stream",
     "text": [
      "the shape of text train after padding :  (21956, 32)\n",
      "the shape of text valid after padding :  (5489, 32)\n"
     ]
    }
   ],
   "source": [
    "text_max_length = 32\n",
    "from tensorflow.keras.preprocessing.sequence import pad_sequences\n",
    "df_text_train = pad_sequences(df_text_train,maxlen=text_max_length,padding='post')\n",
    "df_text_valid = pad_sequences(df_text_valid,maxlen=text_max_length,padding='post')\n",
    "\n",
    "print('the shape of text train after padding : ',df_text_train.shape)\n",
    "print('the shape of text valid after padding : ',df_text_valid.shape)"
   ]
  },
  {
   "cell_type": "markdown",
   "id": "7364d067",
   "metadata": {
    "id": "7364d067"
   },
   "source": [
    "#### Fasttext Emdedding Matrix\n",
    "#https://machinelearningmastery.com/use-word-embedding-layers-deep-learning-keras/"
   ]
  },
  {
   "cell_type": "code",
   "execution_count": 24,
   "id": "793888ac",
   "metadata": {
    "colab": {
     "base_uri": "https://localhost:8080/",
     "height": 70
    },
    "id": "793888ac",
    "outputId": "2939f568-41fc-41ac-df78-4b399de0f6e6"
   },
   "outputs": [
    {
     "name": "stdout",
     "output_type": "stream",
     "text": [
      "Downloading https://dl.fbaipublicfiles.com/fasttext/vectors-crawl/cc.en.300.bin.gz\n",
      "\n"
     ]
    },
    {
     "data": {
      "application/vnd.google.colaboratory.intrinsic+json": {
       "type": "string"
      },
      "text/plain": [
       "'cc.en.300.bin'"
      ]
     },
     "execution_count": 24,
     "metadata": {},
     "output_type": "execute_result"
    }
   ],
   "source": [
    "fasttext.util.download_model('en', if_exists='ignore')"
   ]
  },
  {
   "cell_type": "code",
   "execution_count": 25,
   "id": "c7a6460f",
   "metadata": {
    "colab": {
     "base_uri": "https://localhost:8080/"
    },
    "id": "c7a6460f",
    "outputId": "f09d6a43-306c-4b10-a3c8-591d5695b7c0"
   },
   "outputs": [
    {
     "name": "stderr",
     "output_type": "stream",
     "text": [
      "Warning : `load_model` does not return WordVectorModel or SupervisedModel any more, but a `FastText` object which is very similar.\n"
     ]
    }
   ],
   "source": [
    "fast_txt = fasttext.load_model('cc.en.300.bin')"
   ]
  },
  {
   "cell_type": "code",
   "execution_count": 26,
   "id": "cf6db144",
   "metadata": {
    "colab": {
     "base_uri": "https://localhost:8080/"
    },
    "id": "cf6db144",
    "outputId": "b27f182e-13be-4aef-c142-46c6d3f6e7ad"
   },
   "outputs": [
    {
     "name": "stdout",
     "output_type": "stream",
     "text": [
      "(20710, 300)\n"
     ]
    }
   ],
   "source": [
    "embedding_matrix=np.zeros(((text_vocab_size,300)))\n",
    "for word,i in text_tknz.word_index.items(): \n",
    "    if type(word)==bool:\n",
    "        continue\n",
    "    else:\n",
    "        embedding_vector=fast_txt.get_word_vector(word)\n",
    "        if embedding_vector is not None:\n",
    "            embedding_matrix[i]=embedding_vector\n",
    "print(embedding_matrix.shape)"
   ]
  },
  {
   "cell_type": "markdown",
   "id": "d21cf83f",
   "metadata": {
    "id": "d21cf83f"
   },
   "source": [
    "## \"Sentiment\" column"
   ]
  },
  {
   "cell_type": "code",
   "execution_count": 27,
   "id": "1b54e9d2",
   "metadata": {
    "id": "1b54e9d2"
   },
   "outputs": [],
   "source": [
    "df_sentiment_train = X_train['sentiment'].values\n",
    "df_sentiment_valid = X_valid['sentiment'].values"
   ]
  },
  {
   "cell_type": "markdown",
   "id": "f9c5999f",
   "metadata": {
    "id": "f9c5999f"
   },
   "source": [
    "#### Tokenizer and Pad sequencing"
   ]
  },
  {
   "cell_type": "code",
   "execution_count": 28,
   "id": "d32c9234",
   "metadata": {
    "colab": {
     "base_uri": "https://localhost:8080/"
    },
    "id": "d32c9234",
    "outputId": "9cedbfbd-3665-4447-b612-bd08c1218949"
   },
   "outputs": [
    {
     "name": "stdout",
     "output_type": "stream",
     "text": [
      "5\n"
     ]
    }
   ],
   "source": [
    "from tensorflow.keras.preprocessing.text import Tokenizer\n",
    "sentiment_tknz = Tokenizer(lower=True,split=' ',oov_token='oov')\n",
    "sentiment_tknz.fit_on_texts(df_sentiment_train)\n",
    "df_sentiment_train = sentiment_tknz.texts_to_sequences(df_sentiment_train)\n",
    "df_sentiment_valid = sentiment_tknz.texts_to_sequences(df_sentiment_valid)\n",
    "sentiment_vocab_size = len(sentiment_tknz.word_index)+1\n",
    "print(sentiment_vocab_size)"
   ]
  },
  {
   "cell_type": "code",
   "execution_count": 29,
   "id": "676e92cc",
   "metadata": {
    "colab": {
     "base_uri": "https://localhost:8080/"
    },
    "id": "676e92cc",
    "outputId": "b03ffef8-806f-4cc0-9678-c75cbfdd68e2"
   },
   "outputs": [
    {
     "name": "stdout",
     "output_type": "stream",
     "text": [
      "the shape of sentiment train after padding :  (21956, 1)\n",
      "the shape of sentiment valid after padding :  (5489, 1)\n"
     ]
    }
   ],
   "source": [
    "sentiment_max_length = 1\n",
    "from tensorflow.keras.preprocessing.sequence import pad_sequences\n",
    "df_sentiment_train = pad_sequences(df_sentiment_train,maxlen=sentiment_max_length,padding='post')\n",
    "df_sentiment_valid = pad_sequences(df_sentiment_valid,maxlen=sentiment_max_length,padding='post')\n",
    "\n",
    "print('the shape of sentiment train after padding : ',df_sentiment_train.shape)\n",
    "print('the shape of sentiment valid after padding : ',df_sentiment_valid.shape)"
   ]
  },
  {
   "cell_type": "markdown",
   "id": "e43e2333",
   "metadata": {
    "id": "e43e2333"
   },
   "source": [
    "## Bidirectional LSTM Seq2seq model"
   ]
  },
  {
   "cell_type": "code",
   "execution_count": 30,
   "id": "37f0ffb4",
   "metadata": {
    "id": "37f0ffb4"
   },
   "outputs": [],
   "source": [
    "import tensorflow as tf\n",
    "from tensorflow.keras.models import Model\n",
    "from tensorflow.keras.layers import Embedding,Dense,LSTM,Dropout,Concatenate,Flatten,TimeDistributed,Input,GRU,BatchNormalization,Bidirectional,SpatialDropout1D,LSTM,LayerNormalization\n",
    "from tensorflow.keras.regularizers import l2"
   ]
  },
  {
   "cell_type": "code",
   "execution_count": 31,
   "id": "tZf4yy0XWR6g",
   "metadata": {
    "id": "tZf4yy0XWR6g"
   },
   "outputs": [],
   "source": [
    "# https://machinelearningmastery.com/adding-a-custom-attention-layer-to-recurrent-neural-network-in-keras/\n",
    "\n",
    "class attention(tf.keras.layers.Layer):\n",
    "    \n",
    "    def __init__(self, return_sequences=True):\n",
    "        super().__init__()\n",
    "        self.return_sequences = return_sequences    \n",
    "    def build(self, input_shape):\n",
    "        \n",
    "        self.W=self.add_weight(name=\"attention_weight\", shape=(input_shape[-1],1),\n",
    "                               initializer=\"random_normal\",trainable =True)\n",
    "        self.b=self.add_weight(name=\"attention_bias\", shape=(input_shape[1],1),\n",
    "                               initializer=\"zeros\",trainable=True)\n",
    "        \n",
    "        super(attention,self).build(input_shape)\n",
    "        \n",
    "    def call(self, x):\n",
    "        # Alignment scores. Pass them through tanh function\n",
    "        e = tanh(dot(x,self.W)+self.b)\n",
    "        # Compute the weights\n",
    "        alpha =  tf.nn.softmax(e, axis=1)\n",
    "        ## Compute the context vector\n",
    "        context = x*alpha\n",
    "        if self.return_sequences:\n",
    "            return context\n",
    "        return  tf.reduce_sum(context, axis=1)"
   ]
  },
  {
   "cell_type": "code",
   "execution_count": 32,
   "id": "0ec8c77f",
   "metadata": {
    "id": "0ec8c77f"
   },
   "outputs": [],
   "source": [
    "#https://machinelearningmastery.com/timedistributed-layer-for-long-short-term-memory-networks-in-python/\n",
    "\n",
    "tf.keras.backend.clear_session()\n",
    "#Text column input\n",
    "text_input = Input(shape=(text_max_length,))\n",
    "#Sentiment column input\n",
    "sentiment_input = Input(shape=(sentiment_max_length,))\n",
    "#Concatinating both inputs\n",
    "concat= Concatenate()([text_input,sentiment_input])\n",
    "embedding_text = Embedding(text_vocab_size,300,input_length=text_max_length,\\\n",
    "                      trainable=False,mask_zero = True,embeddings_initializer=tf.constant_initializer(embedding_matrix))(concat)\n",
    "bigru_layer = Bidirectional(GRU(256,return_sequences=True,dropout=0.4))(embedding_text)\n",
    "attention_layer = attention(return_sequences=True)(bigru_layer)\n",
    "dense_layer_1 = Dense(64,activation='relu',kernel_regularizer=l2(0.0001))(attention_layer)#(bilstm_layer)\n",
    "dropout_layer = Dropout(0.25)(dense_layer_1)\n",
    "dense_layer_2 = Dense(16,activation='relu',kernel_regularizer=l2(0.0001))(dropout_layer)\n",
    "output=TimeDistributed(Dense(1,activation='sigmoid'))(dense_layer_2)"
   ]
  },
  {
   "cell_type": "code",
   "execution_count": 33,
   "id": "f65028e9",
   "metadata": {
    "id": "f65028e9"
   },
   "outputs": [],
   "source": [
    "model=Model(inputs=[text_input,sentiment_input],outputs=[output])"
   ]
  },
  {
   "cell_type": "code",
   "execution_count": 34,
   "id": "52b8a343",
   "metadata": {
    "colab": {
     "base_uri": "https://localhost:8080/"
    },
    "id": "52b8a343",
    "outputId": "d729f540-7999-4207-a9c8-4aac4d9ae1c5"
   },
   "outputs": [
    {
     "name": "stdout",
     "output_type": "stream",
     "text": [
      "Model: \"model\"\n",
      "__________________________________________________________________________________________________\n",
      " Layer (type)                   Output Shape         Param #     Connected to                     \n",
      "==================================================================================================\n",
      " input_1 (InputLayer)           [(None, 32)]         0           []                               \n",
      "                                                                                                  \n",
      " input_2 (InputLayer)           [(None, 1)]          0           []                               \n",
      "                                                                                                  \n",
      " concatenate (Concatenate)      (None, 33)           0           ['input_1[0][0]',                \n",
      "                                                                  'input_2[0][0]']                \n",
      "                                                                                                  \n",
      " embedding (Embedding)          (None, 33, 300)      6213000     ['concatenate[0][0]']            \n",
      "                                                                                                  \n",
      " bidirectional (Bidirectional)  (None, 33, 512)      857088      ['embedding[0][0]']              \n",
      "                                                                                                  \n",
      " attention (attention)          (None, 33, 512)      545         ['bidirectional[0][0]']          \n",
      "                                                                                                  \n",
      " dense (Dense)                  (None, 33, 64)       32832       ['attention[0][0]']              \n",
      "                                                                                                  \n",
      " dropout (Dropout)              (None, 33, 64)       0           ['dense[0][0]']                  \n",
      "                                                                                                  \n",
      " dense_1 (Dense)                (None, 33, 16)       1040        ['dropout[0][0]']                \n",
      "                                                                                                  \n",
      " time_distributed (TimeDistribu  (None, 33, 1)       17          ['dense_1[0][0]']                \n",
      " ted)                                                                                             \n",
      "                                                                                                  \n",
      "==================================================================================================\n",
      "Total params: 7,104,522\n",
      "Trainable params: 891,522\n",
      "Non-trainable params: 6,213,000\n",
      "__________________________________________________________________________________________________\n"
     ]
    }
   ],
   "source": [
    "model.summary()"
   ]
  },
  {
   "cell_type": "code",
   "execution_count": 35,
   "id": "b6c3c7e0",
   "metadata": {
    "id": "b6c3c7e0"
   },
   "outputs": [],
   "source": [
    "train_input = (df_text_train, df_sentiment_train)\n",
    "train_output = y_train\n",
    "\n",
    "valid_input = (df_text_valid,df_sentiment_valid)\n",
    "valid_output = y_valid"
   ]
  },
  {
   "cell_type": "code",
   "execution_count": 36,
   "id": "92f12684",
   "metadata": {
    "id": "92f12684"
   },
   "outputs": [],
   "source": [
    "## Custom loss function\n",
    "\n",
    "## source : nlp_attention_mechanism assignment\n",
    "\n",
    "def loss_function(real,pred):\n",
    "    \"\"\" Custom loss function that will not consider the loss for padded zeros.\n",
    "    why are we using this, can't we use simple binary crossentropy?\n",
    "    Yes, you can use simple binary crossentropy , but in this loss function we are ignoring the loss\n",
    "    for the padded zeros. i.e when the input is zero then we donot need to worry what the output is. This padded zeros are added from our end\n",
    "    during preprocessing to make equal length for all the sentences.\n",
    "\n",
    "    \"\"\"\n",
    "    loss_object = tf.keras.losses.BinaryCrossentropy(reduction = tf.keras.losses.Reduction.SUM)\n",
    "    loss_ = loss_object(real,pred)\n",
    "    return loss_ / 128"
   ]
  },
  {
   "cell_type": "code",
   "execution_count": 37,
   "id": "eb2ba14a",
   "metadata": {
    "id": "eb2ba14a"
   },
   "outputs": [],
   "source": [
    "import datetime\n",
    "import os\n",
    "! mkdir  'checkpt11'\n",
    "file_path = os.path.join('model111.hdf5')\n",
    "earlystop = EarlyStopping(monitor='val_mae', min_delta=0.001, patience=10, verbose=1,mode='min')\n",
    "\n",
    "reducelr = ReduceLROnPlateau(monitor='val_mae', min_delta=0.001, patience=5, verbose=1, factor=0.9)\n",
    "checkpt_model = tf.keras.callbacks.ModelCheckpoint(filepath=file_path,save_weights_only=True,monitor='val_mae',save_best_only=True,verbose=1)\n",
    "callbacks=[checkpt_model,earlystop,reducelr]"
   ]
  },
  {
   "cell_type": "code",
   "execution_count": 38,
   "id": "1c2e30f6",
   "metadata": {
    "id": "1c2e30f6"
   },
   "outputs": [],
   "source": [
    "model.compile(optimizer='adam',loss=loss_function,metrics=['accuracy'])"
   ]
  },
  {
   "cell_type": "code",
   "execution_count": 39,
   "id": "f54fcf18",
   "metadata": {
    "colab": {
     "base_uri": "https://localhost:8080/"
    },
    "id": "f54fcf18",
    "outputId": "cfe9c940-ea25-4baf-caed-02b9c11944d3"
   },
   "outputs": [
    {
     "name": "stdout",
     "output_type": "stream",
     "text": [
      "Epoch 1/15\n",
      "172/172 [==============================] - ETA: 0s - loss: 10.8196 - accuracy: 0.9073WARNING:tensorflow:Can save best model only with val_mae available, skipping.\n",
      "172/172 [==============================] - 173s 748ms/step - loss: 10.8196 - accuracy: 0.9073 - val_loss: 5.8752 - val_accuracy: 0.9245\n",
      "Epoch 2/15\n",
      "172/172 [==============================] - ETA: 0s - loss: 5.6339 - accuracy: 0.9283WARNING:tensorflow:Can save best model only with val_mae available, skipping.\n",
      "172/172 [==============================] - 112s 651ms/step - loss: 5.6339 - accuracy: 0.9283 - val_loss: 5.3804 - val_accuracy: 0.9303\n",
      "Epoch 3/15\n",
      "172/172 [==============================] - ETA: 0s - loss: 5.3891 - accuracy: 0.9306WARNING:tensorflow:Can save best model only with val_mae available, skipping.\n",
      "172/172 [==============================] - 82s 475ms/step - loss: 5.3891 - accuracy: 0.9306 - val_loss: 5.2551 - val_accuracy: 0.9311\n",
      "Epoch 4/15\n",
      "172/172 [==============================] - ETA: 0s - loss: 5.2836 - accuracy: 0.9316WARNING:tensorflow:Can save best model only with val_mae available, skipping.\n",
      "172/172 [==============================] - 74s 430ms/step - loss: 5.2836 - accuracy: 0.9316 - val_loss: 5.1556 - val_accuracy: 0.9327\n",
      "Epoch 5/15\n",
      "172/172 [==============================] - ETA: 0s - loss: 5.1822 - accuracy: 0.9327WARNING:tensorflow:Can save best model only with val_mae available, skipping.\n",
      "172/172 [==============================] - 72s 419ms/step - loss: 5.1822 - accuracy: 0.9327 - val_loss: 5.1172 - val_accuracy: 0.9334\n",
      "Epoch 6/15\n",
      "172/172 [==============================] - ETA: 0s - loss: 5.1160 - accuracy: 0.9336WARNING:tensorflow:Can save best model only with val_mae available, skipping.\n",
      "172/172 [==============================] - 72s 420ms/step - loss: 5.1160 - accuracy: 0.9336 - val_loss: 5.1261 - val_accuracy: 0.9330\n",
      "Epoch 7/15\n",
      "172/172 [==============================] - ETA: 0s - loss: 5.0383 - accuracy: 0.9343WARNING:tensorflow:Can save best model only with val_mae available, skipping.\n",
      "172/172 [==============================] - 72s 416ms/step - loss: 5.0383 - accuracy: 0.9343 - val_loss: 5.0663 - val_accuracy: 0.9337\n",
      "Epoch 8/15\n",
      "172/172 [==============================] - ETA: 0s - loss: 4.9882 - accuracy: 0.9349WARNING:tensorflow:Can save best model only with val_mae available, skipping.\n",
      "172/172 [==============================] - 74s 428ms/step - loss: 4.9882 - accuracy: 0.9349 - val_loss: 5.0473 - val_accuracy: 0.9340\n",
      "Epoch 9/15\n",
      "172/172 [==============================] - ETA: 0s - loss: 4.9440 - accuracy: 0.9353WARNING:tensorflow:Can save best model only with val_mae available, skipping.\n",
      "172/172 [==============================] - 73s 424ms/step - loss: 4.9440 - accuracy: 0.9353 - val_loss: 5.0986 - val_accuracy: 0.9341\n",
      "Epoch 10/15\n",
      "172/172 [==============================] - ETA: 0s - loss: 4.8967 - accuracy: 0.9356WARNING:tensorflow:Can save best model only with val_mae available, skipping.\n",
      "172/172 [==============================] - 75s 434ms/step - loss: 4.8967 - accuracy: 0.9356 - val_loss: 5.0029 - val_accuracy: 0.9345\n",
      "Epoch 11/15\n",
      "172/172 [==============================] - ETA: 0s - loss: 4.8431 - accuracy: 0.9361WARNING:tensorflow:Can save best model only with val_mae available, skipping.\n",
      "172/172 [==============================] - 73s 427ms/step - loss: 4.8431 - accuracy: 0.9361 - val_loss: 5.0130 - val_accuracy: 0.9349\n",
      "Epoch 12/15\n",
      "172/172 [==============================] - ETA: 0s - loss: 4.7851 - accuracy: 0.9367WARNING:tensorflow:Can save best model only with val_mae available, skipping.\n",
      "172/172 [==============================] - 73s 424ms/step - loss: 4.7851 - accuracy: 0.9367 - val_loss: 5.1392 - val_accuracy: 0.9346\n",
      "Epoch 13/15\n",
      "172/172 [==============================] - ETA: 0s - loss: 4.7673 - accuracy: 0.9370WARNING:tensorflow:Can save best model only with val_mae available, skipping.\n",
      "172/172 [==============================] - 75s 435ms/step - loss: 4.7673 - accuracy: 0.9370 - val_loss: 5.2810 - val_accuracy: 0.9346\n",
      "Epoch 14/15\n",
      "172/172 [==============================] - ETA: 0s - loss: 4.6716 - accuracy: 0.9377WARNING:tensorflow:Can save best model only with val_mae available, skipping.\n",
      "172/172 [==============================] - 51s 296ms/step - loss: 4.6716 - accuracy: 0.9377 - val_loss: 5.0858 - val_accuracy: 0.9335\n",
      "Epoch 15/15\n",
      "172/172 [==============================] - ETA: 0s - loss: 4.6330 - accuracy: 0.9382WARNING:tensorflow:Can save best model only with val_mae available, skipping.\n",
      "172/172 [==============================] - 43s 251ms/step - loss: 4.6330 - accuracy: 0.9382 - val_loss: 5.0795 - val_accuracy: 0.9321\n"
     ]
    },
    {
     "data": {
      "text/plain": [
       "<keras.callbacks.History at 0x7fe3040876d0>"
      ]
     },
     "execution_count": 39,
     "metadata": {},
     "output_type": "execute_result"
    }
   ],
   "source": [
    "model.fit(train_input,train_output,epochs=15,batch_size=128,validation_data=(valid_input,valid_output),callbacks=callbacks)"
   ]
  },
  {
   "cell_type": "markdown",
   "id": "bc4cbdc2",
   "metadata": {
    "id": "bc4cbdc2"
   },
   "source": [
    "## Jaccard-Score for Train Data"
   ]
  },
  {
   "cell_type": "code",
   "execution_count": 40,
   "id": "8c8dc7f9",
   "metadata": {
    "colab": {
     "base_uri": "https://localhost:8080/"
    },
    "id": "8c8dc7f9",
    "outputId": "592167a7-96dc-4879-9602-d74d8ed4452b"
   },
   "outputs": [
    {
     "data": {
      "text/plain": [
       "(21956, 3)"
      ]
     },
     "execution_count": 40,
     "metadata": {},
     "output_type": "execute_result"
    }
   ],
   "source": [
    "train_data_new = X_train[[\"text\",\"selected_text\",\"sentiment\"]]\n",
    "train_data_new.shape"
   ]
  },
  {
   "cell_type": "code",
   "execution_count": 41,
   "id": "0c9c74d6",
   "metadata": {
    "colab": {
     "base_uri": "https://localhost:8080/"
    },
    "id": "0c9c74d6",
    "outputId": "773c1b64-188e-44da-a78d-a8e5809292f6"
   },
   "outputs": [
    {
     "name": "stdout",
     "output_type": "stream",
     "text": [
      "the shape of predicted data :  (21956, 33)\n"
     ]
    }
   ],
   "source": [
    "y_train_prediction = model.predict(train_input)\n",
    "y_train_prediction = np.squeeze(y_train_prediction)\n",
    "y_train_prediction = np.round(y_train_prediction)\n",
    "print('the shape of predicted data : ',y_train_prediction.shape)"
   ]
  },
  {
   "cell_type": "code",
   "execution_count": 42,
   "id": "605fb517",
   "metadata": {
    "colab": {
     "base_uri": "https://localhost:8080/"
    },
    "id": "605fb517",
    "outputId": "3c242b7c-4f91-4fe4-9690-dc0184e9b436"
   },
   "outputs": [
    {
     "name": "stderr",
     "output_type": "stream",
     "text": [
      "100%|██████████| 21956/21956 [00:01<00:00, 13549.17it/s]"
     ]
    },
    {
     "name": "stdout",
     "output_type": "stream",
     "text": [
      "The length of predicted list is :  21956\n"
     ]
    },
    {
     "name": "stderr",
     "output_type": "stream",
     "text": [
      "\n"
     ]
    }
   ],
   "source": [
    "## printing the predicted output as an array of index where common words present in text and selected_text\n",
    "train_data_prediction = []\n",
    "for i in tqdm(y_train_prediction):\n",
    "    index = []\n",
    "    for j in range(len(i)):\n",
    "        if i[j] == 1:\n",
    "            index.append(j)\n",
    "        else:\n",
    "            continue\n",
    "    index = np.array(index)\n",
    "    train_data_prediction.append(index)\n",
    "print('The length of predicted list is : ',len(train_data_prediction))"
   ]
  },
  {
   "cell_type": "code",
   "execution_count": 43,
   "id": "5e662ea5",
   "metadata": {
    "colab": {
     "base_uri": "https://localhost:8080/",
     "height": 112
    },
    "id": "5e662ea5",
    "outputId": "b5a442a1-4585-4c72-fa13-5f9e631de45f"
   },
   "outputs": [
    {
     "data": {
      "text/html": [
       "\n",
       "  <div id=\"df-f4ff8dc6-04e0-45fd-ab35-57106b5293c2\">\n",
       "    <div class=\"colab-df-container\">\n",
       "      <div>\n",
       "<style scoped>\n",
       "    .dataframe tbody tr th:only-of-type {\n",
       "        vertical-align: middle;\n",
       "    }\n",
       "\n",
       "    .dataframe tbody tr th {\n",
       "        vertical-align: top;\n",
       "    }\n",
       "\n",
       "    .dataframe thead th {\n",
       "        text-align: right;\n",
       "    }\n",
       "</style>\n",
       "<table border=\"1\" class=\"dataframe\">\n",
       "  <thead>\n",
       "    <tr style=\"text-align: right;\">\n",
       "      <th></th>\n",
       "      <th>text</th>\n",
       "      <th>selected_text</th>\n",
       "      <th>sentiment</th>\n",
       "      <th>prediction_arr</th>\n",
       "    </tr>\n",
       "  </thead>\n",
       "  <tbody>\n",
       "    <tr>\n",
       "      <th>9772</th>\n",
       "      <td>someone take me to la i need to see the lemon ...</td>\n",
       "      <td>someone take me to la i need to see the lemon ...</td>\n",
       "      <td>neutral</td>\n",
       "      <td>[0, 1, 2, 3, 4, 5, 6, 7, 8, 9, 10, 11]</td>\n",
       "    </tr>\n",
       "    <tr>\n",
       "      <th>26215</th>\n",
       "      <td>lol heeeyyy love not much working and you</td>\n",
       "      <td>lol heeeyyy love not much working and you</td>\n",
       "      <td>neutral</td>\n",
       "      <td>[0, 1, 2, 3, 4, 5, 6, 7]</td>\n",
       "    </tr>\n",
       "  </tbody>\n",
       "</table>\n",
       "</div>\n",
       "      <button class=\"colab-df-convert\" onclick=\"convertToInteractive('df-f4ff8dc6-04e0-45fd-ab35-57106b5293c2')\"\n",
       "              title=\"Convert this dataframe to an interactive table.\"\n",
       "              style=\"display:none;\">\n",
       "        \n",
       "  <svg xmlns=\"http://www.w3.org/2000/svg\" height=\"24px\"viewBox=\"0 0 24 24\"\n",
       "       width=\"24px\">\n",
       "    <path d=\"M0 0h24v24H0V0z\" fill=\"none\"/>\n",
       "    <path d=\"M18.56 5.44l.94 2.06.94-2.06 2.06-.94-2.06-.94-.94-2.06-.94 2.06-2.06.94zm-11 1L8.5 8.5l.94-2.06 2.06-.94-2.06-.94L8.5 2.5l-.94 2.06-2.06.94zm10 10l.94 2.06.94-2.06 2.06-.94-2.06-.94-.94-2.06-.94 2.06-2.06.94z\"/><path d=\"M17.41 7.96l-1.37-1.37c-.4-.4-.92-.59-1.43-.59-.52 0-1.04.2-1.43.59L10.3 9.45l-7.72 7.72c-.78.78-.78 2.05 0 2.83L4 21.41c.39.39.9.59 1.41.59.51 0 1.02-.2 1.41-.59l7.78-7.78 2.81-2.81c.8-.78.8-2.07 0-2.86zM5.41 20L4 18.59l7.72-7.72 1.47 1.35L5.41 20z\"/>\n",
       "  </svg>\n",
       "      </button>\n",
       "      \n",
       "  <style>\n",
       "    .colab-df-container {\n",
       "      display:flex;\n",
       "      flex-wrap:wrap;\n",
       "      gap: 12px;\n",
       "    }\n",
       "\n",
       "    .colab-df-convert {\n",
       "      background-color: #E8F0FE;\n",
       "      border: none;\n",
       "      border-radius: 50%;\n",
       "      cursor: pointer;\n",
       "      display: none;\n",
       "      fill: #1967D2;\n",
       "      height: 32px;\n",
       "      padding: 0 0 0 0;\n",
       "      width: 32px;\n",
       "    }\n",
       "\n",
       "    .colab-df-convert:hover {\n",
       "      background-color: #E2EBFA;\n",
       "      box-shadow: 0px 1px 2px rgba(60, 64, 67, 0.3), 0px 1px 3px 1px rgba(60, 64, 67, 0.15);\n",
       "      fill: #174EA6;\n",
       "    }\n",
       "\n",
       "    [theme=dark] .colab-df-convert {\n",
       "      background-color: #3B4455;\n",
       "      fill: #D2E3FC;\n",
       "    }\n",
       "\n",
       "    [theme=dark] .colab-df-convert:hover {\n",
       "      background-color: #434B5C;\n",
       "      box-shadow: 0px 1px 3px 1px rgba(0, 0, 0, 0.15);\n",
       "      filter: drop-shadow(0px 1px 2px rgba(0, 0, 0, 0.3));\n",
       "      fill: #FFFFFF;\n",
       "    }\n",
       "  </style>\n",
       "\n",
       "      <script>\n",
       "        const buttonEl =\n",
       "          document.querySelector('#df-f4ff8dc6-04e0-45fd-ab35-57106b5293c2 button.colab-df-convert');\n",
       "        buttonEl.style.display =\n",
       "          google.colab.kernel.accessAllowed ? 'block' : 'none';\n",
       "\n",
       "        async function convertToInteractive(key) {\n",
       "          const element = document.querySelector('#df-f4ff8dc6-04e0-45fd-ab35-57106b5293c2');\n",
       "          const dataTable =\n",
       "            await google.colab.kernel.invokeFunction('convertToInteractive',\n",
       "                                                     [key], {});\n",
       "          if (!dataTable) return;\n",
       "\n",
       "          const docLinkHtml = 'Like what you see? Visit the ' +\n",
       "            '<a target=\"_blank\" href=https://colab.research.google.com/notebooks/data_table.ipynb>data table notebook</a>'\n",
       "            + ' to learn more about interactive tables.';\n",
       "          element.innerHTML = '';\n",
       "          dataTable['output_type'] = 'display_data';\n",
       "          await google.colab.output.renderOutput(dataTable, element);\n",
       "          const docLink = document.createElement('div');\n",
       "          docLink.innerHTML = docLinkHtml;\n",
       "          element.appendChild(docLink);\n",
       "        }\n",
       "      </script>\n",
       "    </div>\n",
       "  </div>\n",
       "  "
      ],
      "text/plain": [
       "                                                    text  ...                          prediction_arr\n",
       "9772   someone take me to la i need to see the lemon ...  ...  [0, 1, 2, 3, 4, 5, 6, 7, 8, 9, 10, 11]\n",
       "26215          lol heeeyyy love not much working and you  ...                [0, 1, 2, 3, 4, 5, 6, 7]\n",
       "\n",
       "[2 rows x 4 columns]"
      ]
     },
     "execution_count": 43,
     "metadata": {},
     "output_type": "execute_result"
    }
   ],
   "source": [
    "train_data_new['prediction_arr'] = train_data_prediction\n",
    "train_data_new.head(2)"
   ]
  },
  {
   "cell_type": "code",
   "execution_count": 44,
   "id": "30735fb6",
   "metadata": {
    "id": "30735fb6"
   },
   "outputs": [],
   "source": [
    "def converting_to_text(x):\n",
    "    \"\"\" This function convert the respective index number to its corresponding words\"\"\"\n",
    "    predicting_text  = []\n",
    "    text_column = data[0].split()\n",
    "    index = data[1]\n",
    "    l = len(text_column)\n",
    "    for i in index:\n",
    "        if i < 1:\n",
    "            predicting_text.append(text_column[i])\n",
    "    return predicting_text"
   ]
  },
  {
   "cell_type": "code",
   "execution_count": 46,
   "id": "95b7c007",
   "metadata": {
    "colab": {
     "base_uri": "https://localhost:8080/"
    },
    "id": "95b7c007",
    "outputId": "9545c07c-cb60-4486-9cec-a510ed64cfe6"
   },
   "outputs": [
    {
     "name": "stderr",
     "output_type": "stream",
     "text": [
      "100%|██████████| 21956/21956 [00:00<00:00, 27954.25it/s]\n"
     ]
    }
   ],
   "source": [
    "train_prediction = train_data_new[['text','prediction_arr']].progress_apply(lambda i : converting_to_text(i),axis=1)"
   ]
  },
  {
   "cell_type": "code",
   "execution_count": 47,
   "id": "f4f2a836",
   "metadata": {
    "colab": {
     "base_uri": "https://localhost:8080/",
     "height": 191
    },
    "id": "f4f2a836",
    "outputId": "3362f945-f248-4b5b-bd82-926230e4a7f0"
   },
   "outputs": [
    {
     "data": {
      "text/html": [
       "\n",
       "  <div id=\"df-817c195a-6832-4671-b0dd-d919420df352\">\n",
       "    <div class=\"colab-df-container\">\n",
       "      <div>\n",
       "<style scoped>\n",
       "    .dataframe tbody tr th:only-of-type {\n",
       "        vertical-align: middle;\n",
       "    }\n",
       "\n",
       "    .dataframe tbody tr th {\n",
       "        vertical-align: top;\n",
       "    }\n",
       "\n",
       "    .dataframe thead th {\n",
       "        text-align: right;\n",
       "    }\n",
       "</style>\n",
       "<table border=\"1\" class=\"dataframe\">\n",
       "  <thead>\n",
       "    <tr style=\"text-align: right;\">\n",
       "      <th></th>\n",
       "      <th>text</th>\n",
       "      <th>selected_text</th>\n",
       "      <th>sentiment</th>\n",
       "      <th>prediction_arr</th>\n",
       "      <th>predicted_text</th>\n",
       "    </tr>\n",
       "  </thead>\n",
       "  <tbody>\n",
       "    <tr>\n",
       "      <th>9772</th>\n",
       "      <td>someone take me to la i need to see the lemon ...</td>\n",
       "      <td>someone take me to la i need to see the lemon ...</td>\n",
       "      <td>neutral</td>\n",
       "      <td>[0, 1, 2, 3, 4, 5, 6, 7, 8, 9, 10, 11]</td>\n",
       "      <td>someone take me to la i need to see the lemon ...</td>\n",
       "    </tr>\n",
       "    <tr>\n",
       "      <th>26215</th>\n",
       "      <td>lol heeeyyy love not much working and you</td>\n",
       "      <td>lol heeeyyy love not much working and you</td>\n",
       "      <td>neutral</td>\n",
       "      <td>[0, 1, 2, 3, 4, 5, 6, 7]</td>\n",
       "      <td>lol heeeyyy love not much working and you</td>\n",
       "    </tr>\n",
       "  </tbody>\n",
       "</table>\n",
       "</div>\n",
       "      <button class=\"colab-df-convert\" onclick=\"convertToInteractive('df-817c195a-6832-4671-b0dd-d919420df352')\"\n",
       "              title=\"Convert this dataframe to an interactive table.\"\n",
       "              style=\"display:none;\">\n",
       "        \n",
       "  <svg xmlns=\"http://www.w3.org/2000/svg\" height=\"24px\"viewBox=\"0 0 24 24\"\n",
       "       width=\"24px\">\n",
       "    <path d=\"M0 0h24v24H0V0z\" fill=\"none\"/>\n",
       "    <path d=\"M18.56 5.44l.94 2.06.94-2.06 2.06-.94-2.06-.94-.94-2.06-.94 2.06-2.06.94zm-11 1L8.5 8.5l.94-2.06 2.06-.94-2.06-.94L8.5 2.5l-.94 2.06-2.06.94zm10 10l.94 2.06.94-2.06 2.06-.94-2.06-.94-.94-2.06-.94 2.06-2.06.94z\"/><path d=\"M17.41 7.96l-1.37-1.37c-.4-.4-.92-.59-1.43-.59-.52 0-1.04.2-1.43.59L10.3 9.45l-7.72 7.72c-.78.78-.78 2.05 0 2.83L4 21.41c.39.39.9.59 1.41.59.51 0 1.02-.2 1.41-.59l7.78-7.78 2.81-2.81c.8-.78.8-2.07 0-2.86zM5.41 20L4 18.59l7.72-7.72 1.47 1.35L5.41 20z\"/>\n",
       "  </svg>\n",
       "      </button>\n",
       "      \n",
       "  <style>\n",
       "    .colab-df-container {\n",
       "      display:flex;\n",
       "      flex-wrap:wrap;\n",
       "      gap: 12px;\n",
       "    }\n",
       "\n",
       "    .colab-df-convert {\n",
       "      background-color: #E8F0FE;\n",
       "      border: none;\n",
       "      border-radius: 50%;\n",
       "      cursor: pointer;\n",
       "      display: none;\n",
       "      fill: #1967D2;\n",
       "      height: 32px;\n",
       "      padding: 0 0 0 0;\n",
       "      width: 32px;\n",
       "    }\n",
       "\n",
       "    .colab-df-convert:hover {\n",
       "      background-color: #E2EBFA;\n",
       "      box-shadow: 0px 1px 2px rgba(60, 64, 67, 0.3), 0px 1px 3px 1px rgba(60, 64, 67, 0.15);\n",
       "      fill: #174EA6;\n",
       "    }\n",
       "\n",
       "    [theme=dark] .colab-df-convert {\n",
       "      background-color: #3B4455;\n",
       "      fill: #D2E3FC;\n",
       "    }\n",
       "\n",
       "    [theme=dark] .colab-df-convert:hover {\n",
       "      background-color: #434B5C;\n",
       "      box-shadow: 0px 1px 3px 1px rgba(0, 0, 0, 0.15);\n",
       "      filter: drop-shadow(0px 1px 2px rgba(0, 0, 0, 0.3));\n",
       "      fill: #FFFFFF;\n",
       "    }\n",
       "  </style>\n",
       "\n",
       "      <script>\n",
       "        const buttonEl =\n",
       "          document.querySelector('#df-817c195a-6832-4671-b0dd-d919420df352 button.colab-df-convert');\n",
       "        buttonEl.style.display =\n",
       "          google.colab.kernel.accessAllowed ? 'block' : 'none';\n",
       "\n",
       "        async function convertToInteractive(key) {\n",
       "          const element = document.querySelector('#df-817c195a-6832-4671-b0dd-d919420df352');\n",
       "          const dataTable =\n",
       "            await google.colab.kernel.invokeFunction('convertToInteractive',\n",
       "                                                     [key], {});\n",
       "          if (!dataTable) return;\n",
       "\n",
       "          const docLinkHtml = 'Like what you see? Visit the ' +\n",
       "            '<a target=\"_blank\" href=https://colab.research.google.com/notebooks/data_table.ipynb>data table notebook</a>'\n",
       "            + ' to learn more about interactive tables.';\n",
       "          element.innerHTML = '';\n",
       "          dataTable['output_type'] = 'display_data';\n",
       "          await google.colab.output.renderOutput(dataTable, element);\n",
       "          const docLink = document.createElement('div');\n",
       "          docLink.innerHTML = docLinkHtml;\n",
       "          element.appendChild(docLink);\n",
       "        }\n",
       "      </script>\n",
       "    </div>\n",
       "  </div>\n",
       "  "
      ],
      "text/plain": [
       "                                                    text  ...                                     predicted_text\n",
       "9772   someone take me to la i need to see the lemon ...  ...  someone take me to la i need to see the lemon ...\n",
       "26215          lol heeeyyy love not much working and you  ...          lol heeeyyy love not much working and you\n",
       "\n",
       "[2 rows x 5 columns]"
      ]
     },
     "execution_count": 47,
     "metadata": {},
     "output_type": "execute_result"
    }
   ],
   "source": [
    "train_data_new['predicted_text'] = train_prediction\n",
    "train_data_new['predicted_text'] = train_data_new['predicted_text'].apply(lambda i : ' '.join(i))\n",
    "train_data_new.head(2)"
   ]
  },
  {
   "cell_type": "code",
   "execution_count": 48,
   "id": "3f124ebe",
   "metadata": {
    "id": "3f124ebe"
   },
   "outputs": [],
   "source": [
    "def jaccard(x): \n",
    "    str1 = str(x[0])\n",
    "    str2 = str(x[1])\n",
    "    a = set(str1.lower().split()) \n",
    "    b = set(str2.lower().split())\n",
    "    c = a.intersection(b)\n",
    "    return float(len(c)) / (len(a) + len(b) - len(c))"
   ]
  },
  {
   "cell_type": "code",
   "execution_count": 49,
   "id": "16e90566",
   "metadata": {
    "colab": {
     "base_uri": "https://localhost:8080/"
    },
    "id": "16e90566",
    "outputId": "27ba61ac-ae27-48df-a82e-85643a303658"
   },
   "outputs": [
    {
     "name": "stderr",
     "output_type": "stream",
     "text": [
      "100%|██████████| 21956/21956 [00:00<00:00, 45456.81it/s]\n"
     ]
    }
   ],
   "source": [
    "train_data_new['jaccard_score'] = train_data_new[['selected_text','predicted_text']].progress_apply(jaccard,axis=1)"
   ]
  },
  {
   "cell_type": "code",
   "execution_count": 50,
   "id": "e0fce39f",
   "metadata": {
    "colab": {
     "base_uri": "https://localhost:8080/"
    },
    "id": "e0fce39f",
    "outputId": "6ccf4b4e-63e9-4d14-a8b1-fad799b759a2"
   },
   "outputs": [
    {
     "name": "stdout",
     "output_type": "stream",
     "text": [
      "Mean jaccard score for training data: 0.6949667188453018\n"
     ]
    }
   ],
   "source": [
    "print('Mean jaccard score for training data:', np.mean(train_data_new['jaccard_score']))"
   ]
  },
  {
   "cell_type": "markdown",
   "id": "6b0e87c3",
   "metadata": {
    "id": "6b0e87c3"
   },
   "source": [
    "## Jaccard-Score on Validation Data"
   ]
  },
  {
   "cell_type": "code",
   "execution_count": 51,
   "id": "d17bced7",
   "metadata": {
    "colab": {
     "base_uri": "https://localhost:8080/"
    },
    "id": "d17bced7",
    "outputId": "d7749d9a-7e9f-4896-d46c-2213bcaab094"
   },
   "outputs": [
    {
     "data": {
      "text/plain": [
       "(5489, 3)"
      ]
     },
     "execution_count": 51,
     "metadata": {},
     "output_type": "execute_result"
    }
   ],
   "source": [
    "valid_data_new = X_valid[[\"text\",\"selected_text\",\"sentiment\"]]\n",
    "valid_data_new.shape"
   ]
  },
  {
   "cell_type": "code",
   "execution_count": 52,
   "id": "6ebc9e0c",
   "metadata": {
    "colab": {
     "base_uri": "https://localhost:8080/"
    },
    "id": "6ebc9e0c",
    "outputId": "747b5a80-5292-43c2-c86d-0a39adbbc6fd"
   },
   "outputs": [
    {
     "name": "stdout",
     "output_type": "stream",
     "text": [
      "the shape of predicted data :  (5489, 33)\n"
     ]
    }
   ],
   "source": [
    "y_valid_prediction = model.predict(valid_input)\n",
    "y_valid_prediction = np.squeeze(y_valid_prediction)\n",
    "y_valid_prediction = np.round(y_valid_prediction)\n",
    "print('the shape of predicted data : ',y_valid_prediction.shape)"
   ]
  },
  {
   "cell_type": "code",
   "execution_count": 53,
   "id": "9f9a8d64",
   "metadata": {
    "colab": {
     "base_uri": "https://localhost:8080/"
    },
    "id": "9f9a8d64",
    "outputId": "794e1ee2-1d15-4c76-a26f-c754823fc58a"
   },
   "outputs": [
    {
     "name": "stderr",
     "output_type": "stream",
     "text": [
      "100%|██████████| 5489/5489 [00:00<00:00, 12830.03it/s]"
     ]
    },
    {
     "name": "stdout",
     "output_type": "stream",
     "text": [
      "The length of predicted list is :  5489\n"
     ]
    },
    {
     "name": "stderr",
     "output_type": "stream",
     "text": [
      "\n"
     ]
    }
   ],
   "source": [
    "## printing the predicted output as an array of index where common words present in text and selected_text\n",
    "valid_data_prediction = []\n",
    "for i in tqdm(y_valid_prediction):\n",
    "    index = []\n",
    "    for j in range(len(i)):\n",
    "        if i[j] == 1:\n",
    "            index.append(j)\n",
    "        else:\n",
    "            continue\n",
    "    index = np.array(index)\n",
    "    valid_data_prediction.append(index)\n",
    "print('The length of predicted list is : ',len(valid_data_prediction))"
   ]
  },
  {
   "cell_type": "code",
   "execution_count": 54,
   "id": "21e07edc",
   "metadata": {
    "colab": {
     "base_uri": "https://localhost:8080/",
     "height": 112
    },
    "id": "21e07edc",
    "outputId": "546f3223-cdbf-4721-e5d4-87fc99161976"
   },
   "outputs": [
    {
     "data": {
      "text/html": [
       "\n",
       "  <div id=\"df-2673fb63-48a8-4b44-a0ae-88c2460730f8\">\n",
       "    <div class=\"colab-df-container\">\n",
       "      <div>\n",
       "<style scoped>\n",
       "    .dataframe tbody tr th:only-of-type {\n",
       "        vertical-align: middle;\n",
       "    }\n",
       "\n",
       "    .dataframe tbody tr th {\n",
       "        vertical-align: top;\n",
       "    }\n",
       "\n",
       "    .dataframe thead th {\n",
       "        text-align: right;\n",
       "    }\n",
       "</style>\n",
       "<table border=\"1\" class=\"dataframe\">\n",
       "  <thead>\n",
       "    <tr style=\"text-align: right;\">\n",
       "      <th></th>\n",
       "      <th>text</th>\n",
       "      <th>selected_text</th>\n",
       "      <th>sentiment</th>\n",
       "      <th>prediction_arr</th>\n",
       "    </tr>\n",
       "  </thead>\n",
       "  <tbody>\n",
       "    <tr>\n",
       "      <th>1366</th>\n",
       "      <td>sooo glad im home floridia was fun back in atl...</td>\n",
       "      <td>glad</td>\n",
       "      <td>positive</td>\n",
       "      <td>[1, 6]</td>\n",
       "    </tr>\n",
       "    <tr>\n",
       "      <th>11297</th>\n",
       "      <td>csi ny comes back to aus with ` CURSE lies and...</td>\n",
       "      <td>csi ny comes back to aus with ` CURSE lies and...</td>\n",
       "      <td>neutral</td>\n",
       "      <td>[0, 1, 2, 3, 4, 5, 6, 7, 8, 9, 10, 11, 12, 13,...</td>\n",
       "    </tr>\n",
       "  </tbody>\n",
       "</table>\n",
       "</div>\n",
       "      <button class=\"colab-df-convert\" onclick=\"convertToInteractive('df-2673fb63-48a8-4b44-a0ae-88c2460730f8')\"\n",
       "              title=\"Convert this dataframe to an interactive table.\"\n",
       "              style=\"display:none;\">\n",
       "        \n",
       "  <svg xmlns=\"http://www.w3.org/2000/svg\" height=\"24px\"viewBox=\"0 0 24 24\"\n",
       "       width=\"24px\">\n",
       "    <path d=\"M0 0h24v24H0V0z\" fill=\"none\"/>\n",
       "    <path d=\"M18.56 5.44l.94 2.06.94-2.06 2.06-.94-2.06-.94-.94-2.06-.94 2.06-2.06.94zm-11 1L8.5 8.5l.94-2.06 2.06-.94-2.06-.94L8.5 2.5l-.94 2.06-2.06.94zm10 10l.94 2.06.94-2.06 2.06-.94-2.06-.94-.94-2.06-.94 2.06-2.06.94z\"/><path d=\"M17.41 7.96l-1.37-1.37c-.4-.4-.92-.59-1.43-.59-.52 0-1.04.2-1.43.59L10.3 9.45l-7.72 7.72c-.78.78-.78 2.05 0 2.83L4 21.41c.39.39.9.59 1.41.59.51 0 1.02-.2 1.41-.59l7.78-7.78 2.81-2.81c.8-.78.8-2.07 0-2.86zM5.41 20L4 18.59l7.72-7.72 1.47 1.35L5.41 20z\"/>\n",
       "  </svg>\n",
       "      </button>\n",
       "      \n",
       "  <style>\n",
       "    .colab-df-container {\n",
       "      display:flex;\n",
       "      flex-wrap:wrap;\n",
       "      gap: 12px;\n",
       "    }\n",
       "\n",
       "    .colab-df-convert {\n",
       "      background-color: #E8F0FE;\n",
       "      border: none;\n",
       "      border-radius: 50%;\n",
       "      cursor: pointer;\n",
       "      display: none;\n",
       "      fill: #1967D2;\n",
       "      height: 32px;\n",
       "      padding: 0 0 0 0;\n",
       "      width: 32px;\n",
       "    }\n",
       "\n",
       "    .colab-df-convert:hover {\n",
       "      background-color: #E2EBFA;\n",
       "      box-shadow: 0px 1px 2px rgba(60, 64, 67, 0.3), 0px 1px 3px 1px rgba(60, 64, 67, 0.15);\n",
       "      fill: #174EA6;\n",
       "    }\n",
       "\n",
       "    [theme=dark] .colab-df-convert {\n",
       "      background-color: #3B4455;\n",
       "      fill: #D2E3FC;\n",
       "    }\n",
       "\n",
       "    [theme=dark] .colab-df-convert:hover {\n",
       "      background-color: #434B5C;\n",
       "      box-shadow: 0px 1px 3px 1px rgba(0, 0, 0, 0.15);\n",
       "      filter: drop-shadow(0px 1px 2px rgba(0, 0, 0, 0.3));\n",
       "      fill: #FFFFFF;\n",
       "    }\n",
       "  </style>\n",
       "\n",
       "      <script>\n",
       "        const buttonEl =\n",
       "          document.querySelector('#df-2673fb63-48a8-4b44-a0ae-88c2460730f8 button.colab-df-convert');\n",
       "        buttonEl.style.display =\n",
       "          google.colab.kernel.accessAllowed ? 'block' : 'none';\n",
       "\n",
       "        async function convertToInteractive(key) {\n",
       "          const element = document.querySelector('#df-2673fb63-48a8-4b44-a0ae-88c2460730f8');\n",
       "          const dataTable =\n",
       "            await google.colab.kernel.invokeFunction('convertToInteractive',\n",
       "                                                     [key], {});\n",
       "          if (!dataTable) return;\n",
       "\n",
       "          const docLinkHtml = 'Like what you see? Visit the ' +\n",
       "            '<a target=\"_blank\" href=https://colab.research.google.com/notebooks/data_table.ipynb>data table notebook</a>'\n",
       "            + ' to learn more about interactive tables.';\n",
       "          element.innerHTML = '';\n",
       "          dataTable['output_type'] = 'display_data';\n",
       "          await google.colab.output.renderOutput(dataTable, element);\n",
       "          const docLink = document.createElement('div');\n",
       "          docLink.innerHTML = docLinkHtml;\n",
       "          element.appendChild(docLink);\n",
       "        }\n",
       "      </script>\n",
       "    </div>\n",
       "  </div>\n",
       "  "
      ],
      "text/plain": [
       "                                                    text  ...                                     prediction_arr\n",
       "1366   sooo glad im home floridia was fun back in atl...  ...                                             [1, 6]\n",
       "11297  csi ny comes back to aus with ` CURSE lies and...  ...  [0, 1, 2, 3, 4, 5, 6, 7, 8, 9, 10, 11, 12, 13,...\n",
       "\n",
       "[2 rows x 4 columns]"
      ]
     },
     "execution_count": 54,
     "metadata": {},
     "output_type": "execute_result"
    }
   ],
   "source": [
    "valid_data_new['prediction_arr'] = valid_data_prediction\n",
    "valid_data_new.head(2)"
   ]
  },
  {
   "cell_type": "code",
   "execution_count": 55,
   "id": "25410f7e",
   "metadata": {
    "colab": {
     "base_uri": "https://localhost:8080/"
    },
    "id": "25410f7e",
    "outputId": "8af36f77-1165-4461-e12b-3c67820dc97b"
   },
   "outputs": [
    {
     "name": "stderr",
     "output_type": "stream",
     "text": [
      "100%|██████████| 5489/5489 [00:00<00:00, 39280.70it/s]\n"
     ]
    }
   ],
   "source": [
    "valid_prediction = valid_data_new[['text','prediction_arr']].progress_apply(lambda i : converting_to_text(i),axis=1)"
   ]
  },
  {
   "cell_type": "code",
   "execution_count": 56,
   "id": "4aefc9f4",
   "metadata": {
    "colab": {
     "base_uri": "https://localhost:8080/",
     "height": 191
    },
    "id": "4aefc9f4",
    "outputId": "0e09dda2-53e8-458b-d50f-85999c2657ef"
   },
   "outputs": [
    {
     "data": {
      "text/html": [
       "\n",
       "  <div id=\"df-7959e4ed-c270-4bbe-9dea-124710ef3d85\">\n",
       "    <div class=\"colab-df-container\">\n",
       "      <div>\n",
       "<style scoped>\n",
       "    .dataframe tbody tr th:only-of-type {\n",
       "        vertical-align: middle;\n",
       "    }\n",
       "\n",
       "    .dataframe tbody tr th {\n",
       "        vertical-align: top;\n",
       "    }\n",
       "\n",
       "    .dataframe thead th {\n",
       "        text-align: right;\n",
       "    }\n",
       "</style>\n",
       "<table border=\"1\" class=\"dataframe\">\n",
       "  <thead>\n",
       "    <tr style=\"text-align: right;\">\n",
       "      <th></th>\n",
       "      <th>text</th>\n",
       "      <th>selected_text</th>\n",
       "      <th>sentiment</th>\n",
       "      <th>prediction_arr</th>\n",
       "      <th>predicted_text</th>\n",
       "    </tr>\n",
       "  </thead>\n",
       "  <tbody>\n",
       "    <tr>\n",
       "      <th>1366</th>\n",
       "      <td>sooo glad im home floridia was fun back in atl...</td>\n",
       "      <td>glad</td>\n",
       "      <td>positive</td>\n",
       "      <td>[1, 6]</td>\n",
       "      <td>glad fun</td>\n",
       "    </tr>\n",
       "    <tr>\n",
       "      <th>11297</th>\n",
       "      <td>csi ny comes back to aus with ` CURSE lies and...</td>\n",
       "      <td>csi ny comes back to aus with ` CURSE lies and...</td>\n",
       "      <td>neutral</td>\n",
       "      <td>[0, 1, 2, 3, 4, 5, 6, 7, 8, 9, 10, 11, 12, 13,...</td>\n",
       "      <td>csi ny comes back to aus with ` CURSE lies and...</td>\n",
       "    </tr>\n",
       "  </tbody>\n",
       "</table>\n",
       "</div>\n",
       "      <button class=\"colab-df-convert\" onclick=\"convertToInteractive('df-7959e4ed-c270-4bbe-9dea-124710ef3d85')\"\n",
       "              title=\"Convert this dataframe to an interactive table.\"\n",
       "              style=\"display:none;\">\n",
       "        \n",
       "  <svg xmlns=\"http://www.w3.org/2000/svg\" height=\"24px\"viewBox=\"0 0 24 24\"\n",
       "       width=\"24px\">\n",
       "    <path d=\"M0 0h24v24H0V0z\" fill=\"none\"/>\n",
       "    <path d=\"M18.56 5.44l.94 2.06.94-2.06 2.06-.94-2.06-.94-.94-2.06-.94 2.06-2.06.94zm-11 1L8.5 8.5l.94-2.06 2.06-.94-2.06-.94L8.5 2.5l-.94 2.06-2.06.94zm10 10l.94 2.06.94-2.06 2.06-.94-2.06-.94-.94-2.06-.94 2.06-2.06.94z\"/><path d=\"M17.41 7.96l-1.37-1.37c-.4-.4-.92-.59-1.43-.59-.52 0-1.04.2-1.43.59L10.3 9.45l-7.72 7.72c-.78.78-.78 2.05 0 2.83L4 21.41c.39.39.9.59 1.41.59.51 0 1.02-.2 1.41-.59l7.78-7.78 2.81-2.81c.8-.78.8-2.07 0-2.86zM5.41 20L4 18.59l7.72-7.72 1.47 1.35L5.41 20z\"/>\n",
       "  </svg>\n",
       "      </button>\n",
       "      \n",
       "  <style>\n",
       "    .colab-df-container {\n",
       "      display:flex;\n",
       "      flex-wrap:wrap;\n",
       "      gap: 12px;\n",
       "    }\n",
       "\n",
       "    .colab-df-convert {\n",
       "      background-color: #E8F0FE;\n",
       "      border: none;\n",
       "      border-radius: 50%;\n",
       "      cursor: pointer;\n",
       "      display: none;\n",
       "      fill: #1967D2;\n",
       "      height: 32px;\n",
       "      padding: 0 0 0 0;\n",
       "      width: 32px;\n",
       "    }\n",
       "\n",
       "    .colab-df-convert:hover {\n",
       "      background-color: #E2EBFA;\n",
       "      box-shadow: 0px 1px 2px rgba(60, 64, 67, 0.3), 0px 1px 3px 1px rgba(60, 64, 67, 0.15);\n",
       "      fill: #174EA6;\n",
       "    }\n",
       "\n",
       "    [theme=dark] .colab-df-convert {\n",
       "      background-color: #3B4455;\n",
       "      fill: #D2E3FC;\n",
       "    }\n",
       "\n",
       "    [theme=dark] .colab-df-convert:hover {\n",
       "      background-color: #434B5C;\n",
       "      box-shadow: 0px 1px 3px 1px rgba(0, 0, 0, 0.15);\n",
       "      filter: drop-shadow(0px 1px 2px rgba(0, 0, 0, 0.3));\n",
       "      fill: #FFFFFF;\n",
       "    }\n",
       "  </style>\n",
       "\n",
       "      <script>\n",
       "        const buttonEl =\n",
       "          document.querySelector('#df-7959e4ed-c270-4bbe-9dea-124710ef3d85 button.colab-df-convert');\n",
       "        buttonEl.style.display =\n",
       "          google.colab.kernel.accessAllowed ? 'block' : 'none';\n",
       "\n",
       "        async function convertToInteractive(key) {\n",
       "          const element = document.querySelector('#df-7959e4ed-c270-4bbe-9dea-124710ef3d85');\n",
       "          const dataTable =\n",
       "            await google.colab.kernel.invokeFunction('convertToInteractive',\n",
       "                                                     [key], {});\n",
       "          if (!dataTable) return;\n",
       "\n",
       "          const docLinkHtml = 'Like what you see? Visit the ' +\n",
       "            '<a target=\"_blank\" href=https://colab.research.google.com/notebooks/data_table.ipynb>data table notebook</a>'\n",
       "            + ' to learn more about interactive tables.';\n",
       "          element.innerHTML = '';\n",
       "          dataTable['output_type'] = 'display_data';\n",
       "          await google.colab.output.renderOutput(dataTable, element);\n",
       "          const docLink = document.createElement('div');\n",
       "          docLink.innerHTML = docLinkHtml;\n",
       "          element.appendChild(docLink);\n",
       "        }\n",
       "      </script>\n",
       "    </div>\n",
       "  </div>\n",
       "  "
      ],
      "text/plain": [
       "                                                    text  ...                                     predicted_text\n",
       "1366   sooo glad im home floridia was fun back in atl...  ...                                           glad fun\n",
       "11297  csi ny comes back to aus with ` CURSE lies and...  ...  csi ny comes back to aus with ` CURSE lies and...\n",
       "\n",
       "[2 rows x 5 columns]"
      ]
     },
     "execution_count": 56,
     "metadata": {},
     "output_type": "execute_result"
    }
   ],
   "source": [
    "valid_data_new['predicted_text'] = valid_prediction\n",
    "valid_data_new['predicted_text'] = valid_data_new['predicted_text'].apply(lambda i : ' '.join(i))\n",
    "valid_data_new.head(2)"
   ]
  },
  {
   "cell_type": "code",
   "execution_count": 57,
   "id": "28a5bf1f",
   "metadata": {
    "colab": {
     "base_uri": "https://localhost:8080/"
    },
    "id": "28a5bf1f",
    "outputId": "d00cae5e-3e45-4c35-c821-dbca37095d69"
   },
   "outputs": [
    {
     "name": "stderr",
     "output_type": "stream",
     "text": [
      "100%|██████████| 5489/5489 [00:00<00:00, 46605.64it/s]\n"
     ]
    }
   ],
   "source": [
    "valid_data_new['jaccard_score'] = valid_data_new[['selected_text','predicted_text']].progress_apply(jaccard,axis=1)"
   ]
  },
  {
   "cell_type": "code",
   "execution_count": 58,
   "id": "2e92c126",
   "metadata": {
    "colab": {
     "base_uri": "https://localhost:8080/"
    },
    "id": "2e92c126",
    "outputId": "fb329c94-8541-4f9d-d21c-09ddf9d049d2"
   },
   "outputs": [
    {
     "name": "stdout",
     "output_type": "stream",
     "text": [
      "Mean jaccard score for validation data: 0.661694544966673\n"
     ]
    }
   ],
   "source": [
    "print('Mean jaccard score for validation data:', np.mean(valid_data_new['jaccard_score']))"
   ]
  },
  {
   "cell_type": "markdown",
   "id": "59defba1",
   "metadata": {
    "id": "59defba1"
   },
   "source": [
    "## Predicting \"selected_text\" on Test Data"
   ]
  },
  {
   "cell_type": "code",
   "execution_count": 59,
   "id": "e6268f58",
   "metadata": {
    "colab": {
     "base_uri": "https://localhost:8080/",
     "height": 112
    },
    "id": "e6268f58",
    "outputId": "f11f1ae6-7d7b-40de-ec60-ba8f8d403c39"
   },
   "outputs": [
    {
     "data": {
      "text/html": [
       "\n",
       "  <div id=\"df-4bdbf68b-668b-4ad9-a288-de061492081b\">\n",
       "    <div class=\"colab-df-container\">\n",
       "      <div>\n",
       "<style scoped>\n",
       "    .dataframe tbody tr th:only-of-type {\n",
       "        vertical-align: middle;\n",
       "    }\n",
       "\n",
       "    .dataframe tbody tr th {\n",
       "        vertical-align: top;\n",
       "    }\n",
       "\n",
       "    .dataframe thead th {\n",
       "        text-align: right;\n",
       "    }\n",
       "</style>\n",
       "<table border=\"1\" class=\"dataframe\">\n",
       "  <thead>\n",
       "    <tr style=\"text-align: right;\">\n",
       "      <th></th>\n",
       "      <th>textID</th>\n",
       "      <th>text</th>\n",
       "      <th>sentiment</th>\n",
       "    </tr>\n",
       "  </thead>\n",
       "  <tbody>\n",
       "    <tr>\n",
       "      <th>0</th>\n",
       "      <td>f87dea47db</td>\n",
       "      <td>last session of the day</td>\n",
       "      <td>neutral</td>\n",
       "    </tr>\n",
       "    <tr>\n",
       "      <th>1</th>\n",
       "      <td>96d74cb729</td>\n",
       "      <td>shanghai is also really exciting precisely sky...</td>\n",
       "      <td>positive</td>\n",
       "    </tr>\n",
       "  </tbody>\n",
       "</table>\n",
       "</div>\n",
       "      <button class=\"colab-df-convert\" onclick=\"convertToInteractive('df-4bdbf68b-668b-4ad9-a288-de061492081b')\"\n",
       "              title=\"Convert this dataframe to an interactive table.\"\n",
       "              style=\"display:none;\">\n",
       "        \n",
       "  <svg xmlns=\"http://www.w3.org/2000/svg\" height=\"24px\"viewBox=\"0 0 24 24\"\n",
       "       width=\"24px\">\n",
       "    <path d=\"M0 0h24v24H0V0z\" fill=\"none\"/>\n",
       "    <path d=\"M18.56 5.44l.94 2.06.94-2.06 2.06-.94-2.06-.94-.94-2.06-.94 2.06-2.06.94zm-11 1L8.5 8.5l.94-2.06 2.06-.94-2.06-.94L8.5 2.5l-.94 2.06-2.06.94zm10 10l.94 2.06.94-2.06 2.06-.94-2.06-.94-.94-2.06-.94 2.06-2.06.94z\"/><path d=\"M17.41 7.96l-1.37-1.37c-.4-.4-.92-.59-1.43-.59-.52 0-1.04.2-1.43.59L10.3 9.45l-7.72 7.72c-.78.78-.78 2.05 0 2.83L4 21.41c.39.39.9.59 1.41.59.51 0 1.02-.2 1.41-.59l7.78-7.78 2.81-2.81c.8-.78.8-2.07 0-2.86zM5.41 20L4 18.59l7.72-7.72 1.47 1.35L5.41 20z\"/>\n",
       "  </svg>\n",
       "      </button>\n",
       "      \n",
       "  <style>\n",
       "    .colab-df-container {\n",
       "      display:flex;\n",
       "      flex-wrap:wrap;\n",
       "      gap: 12px;\n",
       "    }\n",
       "\n",
       "    .colab-df-convert {\n",
       "      background-color: #E8F0FE;\n",
       "      border: none;\n",
       "      border-radius: 50%;\n",
       "      cursor: pointer;\n",
       "      display: none;\n",
       "      fill: #1967D2;\n",
       "      height: 32px;\n",
       "      padding: 0 0 0 0;\n",
       "      width: 32px;\n",
       "    }\n",
       "\n",
       "    .colab-df-convert:hover {\n",
       "      background-color: #E2EBFA;\n",
       "      box-shadow: 0px 1px 2px rgba(60, 64, 67, 0.3), 0px 1px 3px 1px rgba(60, 64, 67, 0.15);\n",
       "      fill: #174EA6;\n",
       "    }\n",
       "\n",
       "    [theme=dark] .colab-df-convert {\n",
       "      background-color: #3B4455;\n",
       "      fill: #D2E3FC;\n",
       "    }\n",
       "\n",
       "    [theme=dark] .colab-df-convert:hover {\n",
       "      background-color: #434B5C;\n",
       "      box-shadow: 0px 1px 3px 1px rgba(0, 0, 0, 0.15);\n",
       "      filter: drop-shadow(0px 1px 2px rgba(0, 0, 0, 0.3));\n",
       "      fill: #FFFFFF;\n",
       "    }\n",
       "  </style>\n",
       "\n",
       "      <script>\n",
       "        const buttonEl =\n",
       "          document.querySelector('#df-4bdbf68b-668b-4ad9-a288-de061492081b button.colab-df-convert');\n",
       "        buttonEl.style.display =\n",
       "          google.colab.kernel.accessAllowed ? 'block' : 'none';\n",
       "\n",
       "        async function convertToInteractive(key) {\n",
       "          const element = document.querySelector('#df-4bdbf68b-668b-4ad9-a288-de061492081b');\n",
       "          const dataTable =\n",
       "            await google.colab.kernel.invokeFunction('convertToInteractive',\n",
       "                                                     [key], {});\n",
       "          if (!dataTable) return;\n",
       "\n",
       "          const docLinkHtml = 'Like what you see? Visit the ' +\n",
       "            '<a target=\"_blank\" href=https://colab.research.google.com/notebooks/data_table.ipynb>data table notebook</a>'\n",
       "            + ' to learn more about interactive tables.';\n",
       "          element.innerHTML = '';\n",
       "          dataTable['output_type'] = 'display_data';\n",
       "          await google.colab.output.renderOutput(dataTable, element);\n",
       "          const docLink = document.createElement('div');\n",
       "          docLink.innerHTML = docLinkHtml;\n",
       "          element.appendChild(docLink);\n",
       "        }\n",
       "      </script>\n",
       "    </div>\n",
       "  </div>\n",
       "  "
      ],
      "text/plain": [
       "       textID                                               text sentiment\n",
       "0  f87dea47db                            last session of the day   neutral\n",
       "1  96d74cb729  shanghai is also really exciting precisely sky...  positive"
      ]
     },
     "execution_count": 59,
     "metadata": {},
     "output_type": "execute_result"
    }
   ],
   "source": [
    "df_test.head(2)"
   ]
  },
  {
   "cell_type": "markdown",
   "id": "87fe4641",
   "metadata": {
    "id": "87fe4641"
   },
   "source": [
    "#### Tokenizing and pad sequencing Text Column"
   ]
  },
  {
   "cell_type": "code",
   "execution_count": 60,
   "id": "3ac742f8",
   "metadata": {
    "colab": {
     "base_uri": "https://localhost:8080/"
    },
    "id": "3ac742f8",
    "outputId": "2a4f96e7-8bc0-48cc-990d-5b538365f045"
   },
   "outputs": [
    {
     "name": "stdout",
     "output_type": "stream",
     "text": [
      "the shape of test text :  (3533, 32)\n"
     ]
    }
   ],
   "source": [
    "df_text_test = df_test['text'].values\n",
    "df_text_test = text_tknz.texts_to_sequences(df_text_test)\n",
    "df_text_test = pad_sequences(df_text_test,maxlen=text_max_length,padding='post')\n",
    "print('the shape of test text : ',df_text_test.shape)\n"
   ]
  },
  {
   "cell_type": "markdown",
   "id": "34b54d1d",
   "metadata": {
    "id": "34b54d1d"
   },
   "source": [
    "#### Tokenizing and pad sequencing sentiment column"
   ]
  },
  {
   "cell_type": "code",
   "execution_count": 61,
   "id": "3dd510f9",
   "metadata": {
    "colab": {
     "base_uri": "https://localhost:8080/"
    },
    "id": "3dd510f9",
    "outputId": "7f47dae7-5d76-42db-a5cc-91e9674e16e4"
   },
   "outputs": [
    {
     "name": "stdout",
     "output_type": "stream",
     "text": [
      "the shape of test sentiment :  (3533, 1)\n"
     ]
    }
   ],
   "source": [
    "df_sentiment_test = df_test['sentiment'].values\n",
    "df_sentiment_test = sentiment_tknz.texts_to_sequences(df_sentiment_test)\n",
    "df_sentiment_test = pad_sequences(df_sentiment_test,maxlen=sentiment_max_length,padding='post')\n",
    "print('the shape of test sentiment : ',df_sentiment_test.shape)"
   ]
  },
  {
   "cell_type": "code",
   "execution_count": 62,
   "id": "6e8cc4f6",
   "metadata": {
    "id": "6e8cc4f6"
   },
   "outputs": [],
   "source": [
    "predicted_results  = model.predict([df_text_test,df_sentiment_test])"
   ]
  },
  {
   "cell_type": "code",
   "execution_count": 63,
   "id": "f3c279fd",
   "metadata": {
    "colab": {
     "base_uri": "https://localhost:8080/"
    },
    "id": "f3c279fd",
    "outputId": "b0a198f4-6376-4cc7-8fc7-6f7c628c3545"
   },
   "outputs": [
    {
     "data": {
      "text/plain": [
       "(3533, 33, 1)"
      ]
     },
     "execution_count": 63,
     "metadata": {},
     "output_type": "execute_result"
    }
   ],
   "source": [
    "predicted_results.shape"
   ]
  },
  {
   "cell_type": "code",
   "execution_count": 64,
   "id": "170f6638",
   "metadata": {
    "colab": {
     "base_uri": "https://localhost:8080/"
    },
    "id": "170f6638",
    "outputId": "f54f52ce-d3f3-445b-f882-da91044e191c"
   },
   "outputs": [
    {
     "name": "stdout",
     "output_type": "stream",
     "text": [
      "the shape of predicted data :  (3533, 33)\n"
     ]
    }
   ],
   "source": [
    "predicted_results = np.squeeze(predicted_results)\n",
    "predicted_results = np.round(predicted_results)\n",
    "print('the shape of predicted data : ',predicted_results.shape)"
   ]
  },
  {
   "cell_type": "code",
   "execution_count": 65,
   "id": "701e4185",
   "metadata": {
    "colab": {
     "base_uri": "https://localhost:8080/"
    },
    "id": "701e4185",
    "outputId": "536be192-74f7-4542-cc49-f4ffc9efad0a"
   },
   "outputs": [
    {
     "name": "stderr",
     "output_type": "stream",
     "text": [
      "100%|██████████| 3533/3533 [00:00<00:00, 13120.92it/s]"
     ]
    },
    {
     "name": "stdout",
     "output_type": "stream",
     "text": [
      "The length of predicted list is :  3533\n"
     ]
    },
    {
     "name": "stderr",
     "output_type": "stream",
     "text": [
      "\n"
     ]
    }
   ],
   "source": [
    "## printing the predicted output as an array of index where common words present in text and selected_text\n",
    "test_data_prediction = []\n",
    "for i in tqdm(predicted_results):\n",
    "    index = []\n",
    "    for j in range(len(i)):\n",
    "        if i[j] == 1:\n",
    "            index.append(j)\n",
    "        else:\n",
    "            continue\n",
    "    index = np.array(index)\n",
    "    test_data_prediction.append(index)\n",
    "print('The length of predicted list is : ',len(test_data_prediction))"
   ]
  },
  {
   "cell_type": "code",
   "execution_count": 66,
   "id": "dc893a36",
   "metadata": {
    "id": "dc893a36"
   },
   "outputs": [],
   "source": [
    "test_data = df_test.copy()"
   ]
  },
  {
   "cell_type": "code",
   "execution_count": 67,
   "id": "10a44c6f",
   "metadata": {
    "colab": {
     "base_uri": "https://localhost:8080/",
     "height": 112
    },
    "id": "10a44c6f",
    "outputId": "414d0a4d-0070-4402-ce1c-82f8cd72e1f7"
   },
   "outputs": [
    {
     "data": {
      "text/html": [
       "\n",
       "  <div id=\"df-69e9de56-1a6f-4e24-ab33-024f79d50e69\">\n",
       "    <div class=\"colab-df-container\">\n",
       "      <div>\n",
       "<style scoped>\n",
       "    .dataframe tbody tr th:only-of-type {\n",
       "        vertical-align: middle;\n",
       "    }\n",
       "\n",
       "    .dataframe tbody tr th {\n",
       "        vertical-align: top;\n",
       "    }\n",
       "\n",
       "    .dataframe thead th {\n",
       "        text-align: right;\n",
       "    }\n",
       "</style>\n",
       "<table border=\"1\" class=\"dataframe\">\n",
       "  <thead>\n",
       "    <tr style=\"text-align: right;\">\n",
       "      <th></th>\n",
       "      <th>textID</th>\n",
       "      <th>text</th>\n",
       "      <th>sentiment</th>\n",
       "      <th>prediction_arr</th>\n",
       "    </tr>\n",
       "  </thead>\n",
       "  <tbody>\n",
       "    <tr>\n",
       "      <th>0</th>\n",
       "      <td>f87dea47db</td>\n",
       "      <td>last session of the day</td>\n",
       "      <td>neutral</td>\n",
       "      <td>[0, 1, 2, 3, 4]</td>\n",
       "    </tr>\n",
       "    <tr>\n",
       "      <th>1</th>\n",
       "      <td>96d74cb729</td>\n",
       "      <td>shanghai is also really exciting precisely sky...</td>\n",
       "      <td>positive</td>\n",
       "      <td>[4]</td>\n",
       "    </tr>\n",
       "  </tbody>\n",
       "</table>\n",
       "</div>\n",
       "      <button class=\"colab-df-convert\" onclick=\"convertToInteractive('df-69e9de56-1a6f-4e24-ab33-024f79d50e69')\"\n",
       "              title=\"Convert this dataframe to an interactive table.\"\n",
       "              style=\"display:none;\">\n",
       "        \n",
       "  <svg xmlns=\"http://www.w3.org/2000/svg\" height=\"24px\"viewBox=\"0 0 24 24\"\n",
       "       width=\"24px\">\n",
       "    <path d=\"M0 0h24v24H0V0z\" fill=\"none\"/>\n",
       "    <path d=\"M18.56 5.44l.94 2.06.94-2.06 2.06-.94-2.06-.94-.94-2.06-.94 2.06-2.06.94zm-11 1L8.5 8.5l.94-2.06 2.06-.94-2.06-.94L8.5 2.5l-.94 2.06-2.06.94zm10 10l.94 2.06.94-2.06 2.06-.94-2.06-.94-.94-2.06-.94 2.06-2.06.94z\"/><path d=\"M17.41 7.96l-1.37-1.37c-.4-.4-.92-.59-1.43-.59-.52 0-1.04.2-1.43.59L10.3 9.45l-7.72 7.72c-.78.78-.78 2.05 0 2.83L4 21.41c.39.39.9.59 1.41.59.51 0 1.02-.2 1.41-.59l7.78-7.78 2.81-2.81c.8-.78.8-2.07 0-2.86zM5.41 20L4 18.59l7.72-7.72 1.47 1.35L5.41 20z\"/>\n",
       "  </svg>\n",
       "      </button>\n",
       "      \n",
       "  <style>\n",
       "    .colab-df-container {\n",
       "      display:flex;\n",
       "      flex-wrap:wrap;\n",
       "      gap: 12px;\n",
       "    }\n",
       "\n",
       "    .colab-df-convert {\n",
       "      background-color: #E8F0FE;\n",
       "      border: none;\n",
       "      border-radius: 50%;\n",
       "      cursor: pointer;\n",
       "      display: none;\n",
       "      fill: #1967D2;\n",
       "      height: 32px;\n",
       "      padding: 0 0 0 0;\n",
       "      width: 32px;\n",
       "    }\n",
       "\n",
       "    .colab-df-convert:hover {\n",
       "      background-color: #E2EBFA;\n",
       "      box-shadow: 0px 1px 2px rgba(60, 64, 67, 0.3), 0px 1px 3px 1px rgba(60, 64, 67, 0.15);\n",
       "      fill: #174EA6;\n",
       "    }\n",
       "\n",
       "    [theme=dark] .colab-df-convert {\n",
       "      background-color: #3B4455;\n",
       "      fill: #D2E3FC;\n",
       "    }\n",
       "\n",
       "    [theme=dark] .colab-df-convert:hover {\n",
       "      background-color: #434B5C;\n",
       "      box-shadow: 0px 1px 3px 1px rgba(0, 0, 0, 0.15);\n",
       "      filter: drop-shadow(0px 1px 2px rgba(0, 0, 0, 0.3));\n",
       "      fill: #FFFFFF;\n",
       "    }\n",
       "  </style>\n",
       "\n",
       "      <script>\n",
       "        const buttonEl =\n",
       "          document.querySelector('#df-69e9de56-1a6f-4e24-ab33-024f79d50e69 button.colab-df-convert');\n",
       "        buttonEl.style.display =\n",
       "          google.colab.kernel.accessAllowed ? 'block' : 'none';\n",
       "\n",
       "        async function convertToInteractive(key) {\n",
       "          const element = document.querySelector('#df-69e9de56-1a6f-4e24-ab33-024f79d50e69');\n",
       "          const dataTable =\n",
       "            await google.colab.kernel.invokeFunction('convertToInteractive',\n",
       "                                                     [key], {});\n",
       "          if (!dataTable) return;\n",
       "\n",
       "          const docLinkHtml = 'Like what you see? Visit the ' +\n",
       "            '<a target=\"_blank\" href=https://colab.research.google.com/notebooks/data_table.ipynb>data table notebook</a>'\n",
       "            + ' to learn more about interactive tables.';\n",
       "          element.innerHTML = '';\n",
       "          dataTable['output_type'] = 'display_data';\n",
       "          await google.colab.output.renderOutput(dataTable, element);\n",
       "          const docLink = document.createElement('div');\n",
       "          docLink.innerHTML = docLinkHtml;\n",
       "          element.appendChild(docLink);\n",
       "        }\n",
       "      </script>\n",
       "    </div>\n",
       "  </div>\n",
       "  "
      ],
      "text/plain": [
       "       textID  ...   prediction_arr\n",
       "0  f87dea47db  ...  [0, 1, 2, 3, 4]\n",
       "1  96d74cb729  ...              [4]\n",
       "\n",
       "[2 rows x 4 columns]"
      ]
     },
     "execution_count": 67,
     "metadata": {},
     "output_type": "execute_result"
    }
   ],
   "source": [
    "test_data['prediction_arr'] = test_data_prediction\n",
    "test_data.head(2)"
   ]
  },
  {
   "cell_type": "code",
   "execution_count": 68,
   "id": "cb6f3e0d",
   "metadata": {
    "colab": {
     "base_uri": "https://localhost:8080/"
    },
    "id": "cb6f3e0d",
    "outputId": "d72e767e-c0e1-4db4-ad25-61cb649b268f"
   },
   "outputs": [
    {
     "name": "stderr",
     "output_type": "stream",
     "text": [
      "100%|██████████| 3533/3533 [00:00<00:00, 41410.20it/s]\n"
     ]
    }
   ],
   "source": [
    "test_prediction = test_data[['text','prediction_arr']].progress_apply(lambda i : converting_to_text(i),axis=1)"
   ]
  },
  {
   "cell_type": "code",
   "execution_count": 69,
   "id": "d9f4df09",
   "metadata": {
    "colab": {
     "base_uri": "https://localhost:8080/",
     "height": 206
    },
    "id": "d9f4df09",
    "outputId": "a5dbcc08-1283-4d26-b602-59621447fc7b"
   },
   "outputs": [
    {
     "data": {
      "text/html": [
       "\n",
       "  <div id=\"df-87330d1c-fa95-4b92-8544-3de4ce23a3fe\">\n",
       "    <div class=\"colab-df-container\">\n",
       "      <div>\n",
       "<style scoped>\n",
       "    .dataframe tbody tr th:only-of-type {\n",
       "        vertical-align: middle;\n",
       "    }\n",
       "\n",
       "    .dataframe tbody tr th {\n",
       "        vertical-align: top;\n",
       "    }\n",
       "\n",
       "    .dataframe thead th {\n",
       "        text-align: right;\n",
       "    }\n",
       "</style>\n",
       "<table border=\"1\" class=\"dataframe\">\n",
       "  <thead>\n",
       "    <tr style=\"text-align: right;\">\n",
       "      <th></th>\n",
       "      <th>textID</th>\n",
       "      <th>text</th>\n",
       "      <th>sentiment</th>\n",
       "      <th>selected_text</th>\n",
       "    </tr>\n",
       "  </thead>\n",
       "  <tbody>\n",
       "    <tr>\n",
       "      <th>0</th>\n",
       "      <td>f87dea47db</td>\n",
       "      <td>last session of the day</td>\n",
       "      <td>neutral</td>\n",
       "      <td>last session of the day</td>\n",
       "    </tr>\n",
       "    <tr>\n",
       "      <th>1</th>\n",
       "      <td>96d74cb729</td>\n",
       "      <td>shanghai is also really exciting precisely sky...</td>\n",
       "      <td>positive</td>\n",
       "      <td>exciting</td>\n",
       "    </tr>\n",
       "    <tr>\n",
       "      <th>2</th>\n",
       "      <td>eee518ae67</td>\n",
       "      <td>recession hit veronique branquinho she has to ...</td>\n",
       "      <td>negative</td>\n",
       "      <td>a shame</td>\n",
       "    </tr>\n",
       "    <tr>\n",
       "      <th>3</th>\n",
       "      <td>01082688c6</td>\n",
       "      <td>happy bday</td>\n",
       "      <td>positive</td>\n",
       "      <td>happy</td>\n",
       "    </tr>\n",
       "    <tr>\n",
       "      <th>4</th>\n",
       "      <td>33987a8ee5</td>\n",
       "      <td>i like it</td>\n",
       "      <td>positive</td>\n",
       "      <td>i like it</td>\n",
       "    </tr>\n",
       "  </tbody>\n",
       "</table>\n",
       "</div>\n",
       "      <button class=\"colab-df-convert\" onclick=\"convertToInteractive('df-87330d1c-fa95-4b92-8544-3de4ce23a3fe')\"\n",
       "              title=\"Convert this dataframe to an interactive table.\"\n",
       "              style=\"display:none;\">\n",
       "        \n",
       "  <svg xmlns=\"http://www.w3.org/2000/svg\" height=\"24px\"viewBox=\"0 0 24 24\"\n",
       "       width=\"24px\">\n",
       "    <path d=\"M0 0h24v24H0V0z\" fill=\"none\"/>\n",
       "    <path d=\"M18.56 5.44l.94 2.06.94-2.06 2.06-.94-2.06-.94-.94-2.06-.94 2.06-2.06.94zm-11 1L8.5 8.5l.94-2.06 2.06-.94-2.06-.94L8.5 2.5l-.94 2.06-2.06.94zm10 10l.94 2.06.94-2.06 2.06-.94-2.06-.94-.94-2.06-.94 2.06-2.06.94z\"/><path d=\"M17.41 7.96l-1.37-1.37c-.4-.4-.92-.59-1.43-.59-.52 0-1.04.2-1.43.59L10.3 9.45l-7.72 7.72c-.78.78-.78 2.05 0 2.83L4 21.41c.39.39.9.59 1.41.59.51 0 1.02-.2 1.41-.59l7.78-7.78 2.81-2.81c.8-.78.8-2.07 0-2.86zM5.41 20L4 18.59l7.72-7.72 1.47 1.35L5.41 20z\"/>\n",
       "  </svg>\n",
       "      </button>\n",
       "      \n",
       "  <style>\n",
       "    .colab-df-container {\n",
       "      display:flex;\n",
       "      flex-wrap:wrap;\n",
       "      gap: 12px;\n",
       "    }\n",
       "\n",
       "    .colab-df-convert {\n",
       "      background-color: #E8F0FE;\n",
       "      border: none;\n",
       "      border-radius: 50%;\n",
       "      cursor: pointer;\n",
       "      display: none;\n",
       "      fill: #1967D2;\n",
       "      height: 32px;\n",
       "      padding: 0 0 0 0;\n",
       "      width: 32px;\n",
       "    }\n",
       "\n",
       "    .colab-df-convert:hover {\n",
       "      background-color: #E2EBFA;\n",
       "      box-shadow: 0px 1px 2px rgba(60, 64, 67, 0.3), 0px 1px 3px 1px rgba(60, 64, 67, 0.15);\n",
       "      fill: #174EA6;\n",
       "    }\n",
       "\n",
       "    [theme=dark] .colab-df-convert {\n",
       "      background-color: #3B4455;\n",
       "      fill: #D2E3FC;\n",
       "    }\n",
       "\n",
       "    [theme=dark] .colab-df-convert:hover {\n",
       "      background-color: #434B5C;\n",
       "      box-shadow: 0px 1px 3px 1px rgba(0, 0, 0, 0.15);\n",
       "      filter: drop-shadow(0px 1px 2px rgba(0, 0, 0, 0.3));\n",
       "      fill: #FFFFFF;\n",
       "    }\n",
       "  </style>\n",
       "\n",
       "      <script>\n",
       "        const buttonEl =\n",
       "          document.querySelector('#df-87330d1c-fa95-4b92-8544-3de4ce23a3fe button.colab-df-convert');\n",
       "        buttonEl.style.display =\n",
       "          google.colab.kernel.accessAllowed ? 'block' : 'none';\n",
       "\n",
       "        async function convertToInteractive(key) {\n",
       "          const element = document.querySelector('#df-87330d1c-fa95-4b92-8544-3de4ce23a3fe');\n",
       "          const dataTable =\n",
       "            await google.colab.kernel.invokeFunction('convertToInteractive',\n",
       "                                                     [key], {});\n",
       "          if (!dataTable) return;\n",
       "\n",
       "          const docLinkHtml = 'Like what you see? Visit the ' +\n",
       "            '<a target=\"_blank\" href=https://colab.research.google.com/notebooks/data_table.ipynb>data table notebook</a>'\n",
       "            + ' to learn more about interactive tables.';\n",
       "          element.innerHTML = '';\n",
       "          dataTable['output_type'] = 'display_data';\n",
       "          await google.colab.output.renderOutput(dataTable, element);\n",
       "          const docLink = document.createElement('div');\n",
       "          docLink.innerHTML = docLinkHtml;\n",
       "          element.appendChild(docLink);\n",
       "        }\n",
       "      </script>\n",
       "    </div>\n",
       "  </div>\n",
       "  "
      ],
      "text/plain": [
       "       textID  ...            selected_text\n",
       "0  f87dea47db  ...  last session of the day\n",
       "1  96d74cb729  ...                 exciting\n",
       "2  eee518ae67  ...                  a shame\n",
       "3  01082688c6  ...                    happy\n",
       "4  33987a8ee5  ...                i like it\n",
       "\n",
       "[5 rows x 4 columns]"
      ]
     },
     "execution_count": 69,
     "metadata": {},
     "output_type": "execute_result"
    }
   ],
   "source": [
    "test_data['selected_text'] = test_prediction\n",
    "test_data['selected_text'] = test_data['selected_text'].apply(lambda i : ' '.join(i))\n",
    "test_data = test_data.drop('prediction_arr',axis=1)\n",
    "test_data.head(5)"
   ]
  },
  {
   "cell_type": "markdown",
   "id": "04703c19",
   "metadata": {},
   "source": [
    "### Observation/Result"
   ]
  },
  {
   "cell_type": "code",
   "execution_count": 1,
   "id": "9a860714",
   "metadata": {},
   "outputs": [
    {
     "name": "stdout",
     "output_type": "stream",
     "text": [
      "+---------------------------------------------------------------------+---------------------+--------------------------+\n",
      "|                                Model                                | Train_Jaccard_score | Validation_Jaccard_score |\n",
      "+---------------------------------------------------------------------+---------------------+--------------------------+\n",
      "|                           LSTM Base Model                           |        0.5037       |          0.492           |\n",
      "|             BiDirectional LSTM Seq2Seq Glove Embedding              |        0.701        |          0.652           |\n",
      "|            BiDirectional LSTM Seq2Seq FastText Embedding            |        0.671        |          0.651           |\n",
      "|   BiDirectional LSTM Seq2Seq attention model with Glove Embedding   |        0.701        |          0.645           |\n",
      "| BiDirectional LSTM Seq2Seq attention model with FastText Embedding  |        0.655        |          0.632           |\n",
      "|              BiDirectional GRU Seq2Seq Glove Embedding              |        0.692        |          0.645           |\n",
      "|            BiDirectional GRU Seq2Seq FastText Embedding             |        0.674        |          0.651           |\n",
      "|   BiDirectional GRU Seq2Seq attention model with Glove Embedding    |        0.724        |          0.656           |\n",
      "| BiDirectional GRU Seq2Seq attention model with Fast-Text Embedding  |        0.694        |          0.661           |\n",
      "+---------------------------------------------------------------------+---------------------+--------------------------+\n"
     ]
    }
   ],
   "source": [
    "# for Glove embedding result shown here please refer Bidirectional_lstm_seq2seq_model_fasttext_embedding.ipynb file\n",
    "\n",
    "from prettytable import PrettyTable\n",
    "result = PrettyTable()\n",
    "result.field_names = [\"Model\",\"Train_Jaccard_score\",\"Validation_Jaccard_score\"]\n",
    "result.add_row([\"LSTM Base Model\",0.5037,0.492])\n",
    "result.add_row([\"BiDirectional LSTM Seq2Seq Glove Embedding \",0.701,0.652])\n",
    "result.add_row([\"BiDirectional LSTM Seq2Seq FastText Embedding \",0.671,0.651])\n",
    "result.add_row([\"BiDirectional LSTM Seq2Seq attention model with Glove Embedding \",0.701,0.645])\n",
    "result.add_row([\"BiDirectional LSTM Seq2Seq attention model with FastText Embedding \",0.655,0.632])\n",
    "result.add_row([\"BiDirectional GRU Seq2Seq Glove Embedding \",0.692,0.645])\n",
    "result.add_row([\"BiDirectional GRU Seq2Seq FastText Embedding \",0.674,0.651])\n",
    "result.add_row([\"BiDirectional GRU Seq2Seq attention model with Glove Embedding \",0.724,0.656])\n",
    "result.add_row([\"BiDirectional GRU Seq2Seq attention model with Fast-Text Embedding \",0.694,0.661])\n",
    "print(result)"
   ]
  },
  {
   "cell_type": "markdown",
   "id": "b46bd072",
   "metadata": {},
   "source": [
    "### Conclusion\n",
    "\n",
    "We can see from above observation that adding attention layers on bidirectional gru seq2seq model with glove embedding with trying various nodes on layer has little improved the result whereas when using fasttext embedding the model with atention layer has a same result as fpr seq2seq model for the best selected nodes (after trying various nodes on architecture), so we would prefer bidirectional gru model with attention layer as its improved result on training the model.\n"
   ]
  },
  {
   "cell_type": "code",
   "execution_count": null,
   "id": "22300f45",
   "metadata": {},
   "outputs": [],
   "source": []
  }
 ],
 "metadata": {
  "accelerator": "GPU",
  "colab": {
   "collapsed_sections": [
    "6af5dc41"
   ],
   "name": "Bidirectional lstm seq2seq model fasttext embedding.ipynb",
   "provenance": []
  },
  "kernelspec": {
   "display_name": "Python 3",
   "language": "python",
   "name": "python3"
  },
  "language_info": {
   "codemirror_mode": {
    "name": "ipython",
    "version": 3
   },
   "file_extension": ".py",
   "mimetype": "text/x-python",
   "name": "python",
   "nbconvert_exporter": "python",
   "pygments_lexer": "ipython3",
   "version": "3.8.8"
  }
 },
 "nbformat": 4,
 "nbformat_minor": 5
}
